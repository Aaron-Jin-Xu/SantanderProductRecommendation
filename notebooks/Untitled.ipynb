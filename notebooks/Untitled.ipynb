{
 "cells": [
  {
   "cell_type": "code",
   "execution_count": 1,
   "metadata": {
    "collapsed": false
   },
   "outputs": [
    {
     "ename": "ImportError",
     "evalue": "No module named xgboost",
     "output_type": "error",
     "traceback": [
      "\u001b[0;31m---------------------------------------------------------------------------\u001b[0m",
      "\u001b[0;31mImportError\u001b[0m                               Traceback (most recent call last)",
      "\u001b[0;32m<ipython-input-1-f76ca8f56a19>\u001b[0m in \u001b[0;36m<module>\u001b[0;34m()\u001b[0m\n\u001b[1;32m      7\u001b[0m \u001b[0;32mfrom\u001b[0m \u001b[0mmodules\u001b[0m\u001b[0;34m.\u001b[0m\u001b[0mpre_process\u001b[0m \u001b[0;32mimport\u001b[0m \u001b[0mfeed_training_data\u001b[0m\u001b[0;34m,\u001b[0m \u001b[0mfeed_test_data\u001b[0m\u001b[0;34m,\u001b[0m \u001b[0mproducts\u001b[0m\u001b[0;34m,\u001b[0m \u001b[0mget_feature\u001b[0m\u001b[0;34m\u001b[0m\u001b[0m\n\u001b[1;32m      8\u001b[0m \u001b[0;32mfrom\u001b[0m \u001b[0mmodules\u001b[0m\u001b[0;34m.\u001b[0m\u001b[0mget_data\u001b[0m \u001b[0;32mimport\u001b[0m \u001b[0;34m*\u001b[0m\u001b[0;34m\u001b[0m\u001b[0m\n\u001b[0;32m----> 9\u001b[0;31m \u001b[0;32mimport\u001b[0m \u001b[0mxgboost\u001b[0m \u001b[0;32mas\u001b[0m \u001b[0mxgb\u001b[0m\u001b[0;34m\u001b[0m\u001b[0m\n\u001b[0m",
      "\u001b[0;31mImportError\u001b[0m: No module named xgboost"
     ]
    }
   ],
   "source": [
    "%load_ext autoreload\n",
    "%autoreload 2\n",
    "import os\n",
    "os.chdir(\"/Users/Aaron-MAC/Development/Kaggle/Santander\")\n",
    "import pandas as pd\n",
    "import numpy as np\n",
    "from modules.pre_process import feed_training_data, feed_test_data, products, get_feature\n",
    "from modules.get_data import *\n",
    "import xgboost as xgb"
   ]
  },
  {
   "cell_type": "code",
   "execution_count": 2,
   "metadata": {
    "collapsed": false
   },
   "outputs": [
    {
     "name": "stderr",
     "output_type": "stream",
     "text": [
      "/Users/Aaron-MAC/anaconda/envs/mlp/lib/python2.7/site-packages/IPython/core/interactiveshell.py:2717: DtypeWarning: Columns (5,8,11,15) have mixed types. Specify dtype option on import or set low_memory=False.\n",
      "  interactivity=interactivity, compiler=compiler, result=result)\n"
     ]
    }
   ],
   "source": [
    "cache = pd.read_csv(\"data/train_ver2.csv\").fillna(-2.)"
   ]
  },
  {
   "cell_type": "code",
   "execution_count": 3,
   "metadata": {
    "collapsed": true
   },
   "outputs": [],
   "source": [
    "train1 = get_training_data(year=2015, month=6, cache=cache)\n",
    "train2 = get_training_data(year=2015, month=5, cache=cache)\n",
    "train2 = get_training_data(year=2015, month=4, cache=cache)"
   ]
  },
  {
   "cell_type": "code",
   "execution_count": 9,
   "metadata": {
    "collapsed": false
   },
   "outputs": [],
   "source": [
    "sel = set(train2.loc[:, ['ncodpers']])\n",
    "train1['sel'] = train1['ncodpers'].isin(sel)\n",
    "new_user = train1.loc[~train1['sel']]\n",
    "new_user['filter'] = new_user.loc[:, [\"diff_\"+x for x in products]].abs().sum(1)\n",
    "new_user = new_user.loc[new_user['filter']>0]"
   ]
  },
  {
   "cell_type": "code",
   "execution_count": 16,
   "metadata": {
    "collapsed": false
   },
   "outputs": [],
   "source": [
    "feature = get_feature(new_user)"
   ]
  },
  {
   "cell_type": "code",
   "execution_count": 19,
   "metadata": {
    "collapsed": false
   },
   "outputs": [],
   "source": [
    "feature.describe().to_csv('view.csv')"
   ]
  },
  {
   "cell_type": "code",
   "execution_count": 89,
   "metadata": {
    "collapsed": false
   },
   "outputs": [
    {
     "name": "stdout",
     "output_type": "stream",
     "text": [
      "Init 1/3 with method: k-means++\n",
      "Inertia for init 1/3: 961.305918\n",
      "Init 2/3 with method: k-means++\n",
      "Inertia for init 2/3: 1063.208491\n",
      "Init 3/3 with method: k-means++\n",
      "Inertia for init 3/3: 1050.915907\n",
      "Minibatch iteration 1/30500: mean batch inertia: 3.878381, ewa inertia: 3.878381 \n",
      "Minibatch iteration 2/30500: mean batch inertia: 4.431171, ewa inertia: 3.882012 \n",
      "Minibatch iteration 3/30500: mean batch inertia: 3.993300, ewa inertia: 3.882743 \n",
      "Minibatch iteration 4/30500: mean batch inertia: 3.125563, ewa inertia: 3.877770 \n",
      "Minibatch iteration 5/30500: mean batch inertia: 3.323376, ewa inertia: 3.874128 \n",
      "Minibatch iteration 6/30500: mean batch inertia: 6.404866, ewa inertia: 3.890752 \n",
      "Minibatch iteration 7/30500: mean batch inertia: 3.391421, ewa inertia: 3.887472 \n",
      "Minibatch iteration 8/30500: mean batch inertia: 3.265292, ewa inertia: 3.883385 \n",
      "Minibatch iteration 9/30500: mean batch inertia: 3.067797, ewa inertia: 3.878027 \n",
      "Minibatch iteration 10/30500: mean batch inertia: 3.321912, ewa inertia: 3.874374 \n",
      "Minibatch iteration 11/30500: mean batch inertia: 3.099894, ewa inertia: 3.869287 \n",
      "Minibatch iteration 12/30500: mean batch inertia: 3.360274, ewa inertia: 3.865943 \n",
      "Minibatch iteration 13/30500: mean batch inertia: 3.361081, ewa inertia: 3.862626 \n",
      "Minibatch iteration 14/30500: mean batch inertia: 3.266874, ewa inertia: 3.858713 \n",
      "Minibatch iteration 15/30500: mean batch inertia: 4.534219, ewa inertia: 3.863150 \n",
      "Minibatch iteration 16/30500: mean batch inertia: 3.197111, ewa inertia: 3.858775 \n",
      "Minibatch iteration 17/30500: mean batch inertia: 3.010796, ewa inertia: 3.853205 \n",
      "Minibatch iteration 18/30500: mean batch inertia: 3.285993, ewa inertia: 3.849479 \n",
      "Minibatch iteration 19/30500: mean batch inertia: 3.121644, ewa inertia: 3.844698 \n",
      "Minibatch iteration 20/30500: mean batch inertia: 3.190543, ewa inertia: 3.840400 \n",
      "Minibatch iteration 21/30500: mean batch inertia: 3.240221, ewa inertia: 3.836458 \n",
      "Minibatch iteration 22/30500: mean batch inertia: 2.872814, ewa inertia: 3.830128 \n",
      "Minibatch iteration 23/30500: mean batch inertia: 6.311954, ewa inertia: 3.846431 \n",
      "Minibatch iteration 24/30500: mean batch inertia: 3.178290, ewa inertia: 3.842042 \n",
      "Minibatch iteration 25/30500: mean batch inertia: 3.122795, ewa inertia: 3.837317 \n",
      "Minibatch iteration 26/30500: mean batch inertia: 3.447437, ewa inertia: 3.834756 \n",
      "Minibatch iteration 27/30500: mean batch inertia: 3.311333, ewa inertia: 3.831318 \n",
      "Minibatch iteration 28/30500: mean batch inertia: 2.979925, ewa inertia: 3.825725 \n",
      "Minibatch iteration 29/30500: mean batch inertia: 3.394819, ewa inertia: 3.822894 \n",
      "Minibatch iteration 30/30500: mean batch inertia: 3.182035, ewa inertia: 3.818684 \n",
      "Minibatch iteration 31/30500: mean batch inertia: 3.032310, ewa inertia: 3.813519 \n",
      "Minibatch iteration 32/30500: mean batch inertia: 4.421743, ewa inertia: 3.817514 \n",
      "Minibatch iteration 33/30500: mean batch inertia: 3.100834, ewa inertia: 3.812806 \n",
      "Minibatch iteration 34/30500: mean batch inertia: 3.010040, ewa inertia: 3.807533 \n",
      "Minibatch iteration 35/30500: mean batch inertia: 3.176838, ewa inertia: 3.803390 \n",
      "Minibatch iteration 36/30500: mean batch inertia: 7.622161, ewa inertia: 3.828475 \n",
      "Minibatch iteration 37/30500: mean batch inertia: 2.866512, ewa inertia: 3.822156 \n",
      "Minibatch iteration 38/30500: mean batch inertia: 2.980876, ewa inertia: 3.816630 \n",
      "Minibatch iteration 39/30500: mean batch inertia: 2.923835, ewa inertia: 3.810765 \n",
      "Minibatch iteration 40/30500: mean batch inertia: 4.130573, ewa inertia: 3.812866 \n",
      "Minibatch iteration 41/30500: mean batch inertia: 3.101327, ewa inertia: 3.808192 \n",
      "Minibatch iteration 42/30500: mean batch inertia: 5.247344, ewa inertia: 3.817646 \n",
      "Minibatch iteration 43/30500: mean batch inertia: 3.269867, ewa inertia: 3.814047 \n",
      "Minibatch iteration 44/30500: mean batch inertia: 3.125237, ewa inertia: 3.809522 \n",
      "Minibatch iteration 45/30500: mean batch inertia: 3.777068, ewa inertia: 3.809309 \n",
      "Converged (lack of improvement in inertia) at iteration 45/30500\n",
      "Computing label assignment and total inertia\n"
     ]
    }
   ],
   "source": [
    "from sklearn.cluster import MiniBatchKMeans\n",
    "k_means = MiniBatchKMeans(n_clusters=10)\n",
    "k_means = k_means.fit(X_train, y_train)\n",
    "cluster = k_means.predict(X_train)"
   ]
  },
  {
   "cell_type": "code",
   "execution_count": 92,
   "metadata": {
    "collapsed": false
   },
   "outputs": [
    {
     "name": "stdout",
     "output_type": "stream",
     "text": [
      "Computing label assignment and total inertia\n"
     ]
    }
   ],
   "source": []
  },
  {
   "cell_type": "code",
   "execution_count": 209,
   "metadata": {
    "collapsed": false
   },
   "outputs": [
    {
     "data": {
      "image/png": "[encoded data removed]",
      "text/plain": [
       "<matplotlib.figure.Figure at 0x116ecef90>"
      ]
     },
     "metadata": {},
     "output_type": "display_data"
    }
   ],
   "source": [
    "import matplotlib.pyplot as plt\n",
    "%matplotlib inline\n",
    "\n",
    "fig = plt.figure(figsize=(16,10))\n",
    "\n",
    "\n",
    "for i in range(20):\n",
    "    count = len(y_train[train_class==i])\n",
    "    x = y_train[train_class==i]\n",
    "    ax = fig.add_subplot(4,5,i+1)\n",
    "    n, bins, patches = ax.hist(x, 50, normed=1, facecolor='green', alpha=0.75)"
   ]
  },
  {
   "cell_type": "code",
   "execution_count": 205,
   "metadata": {
    "collapsed": false
   },
   "outputs": [],
   "source": [
    "X_train, y_train = feed_training_data(year=2015, month=5, cache=cache, mul_y=False)\n",
    "X_test = feed_test_data(year=2016, month=5, cache=cache)"
   ]
  },
  {
   "cell_type": "code",
   "execution_count": 206,
   "metadata": {
    "collapsed": false
   },
   "outputs": [],
   "source": [
    "X_test_unred = X_test.copy()\n",
    "test_set = get_test_data(year=2016, month=5, cache=cache)"
   ]
  },
  {
   "cell_type": "code",
   "execution_count": 207,
   "metadata": {
    "collapsed": false
   },
   "outputs": [],
   "source": [
    "from sklearn.preprocessing import MaxAbsScaler\n",
    "\n",
    "pre_processor = MaxAbsScaler()\n",
    "X_train = pre_processor.fit_transform(X_train)\n",
    "X_test = pre_processor.transform(X_test)"
   ]
  },
  {
   "cell_type": "code",
   "execution_count": 218,
   "metadata": {
    "collapsed": false
   },
   "outputs": [
    {
     "data": {
      "text/plain": [
       "(13647309, 25)"
      ]
     },
     "execution_count": 218,
     "metadata": {},
     "output_type": "execute_result"
    }
   ],
   "source": [
    "\n",
    "X_train_all = get_feature(cache).iloc[:, 1:].values\n",
    "X_train_all.shape\n"
   ]
  },
  {
   "cell_type": "code",
   "execution_count": 221,
   "metadata": {
    "collapsed": false
   },
   "outputs": [
    {
     "ename": "KeyboardInterrupt",
     "evalue": "",
     "output_type": "error",
     "traceback": [
      "\u001b[0;31m---------------------------------------------------------------------------\u001b[0m",
      "\u001b[0;31mKeyboardInterrupt\u001b[0m                         Traceback (most recent call last)",
      "\u001b[0;32m<ipython-input-221-f26efface9bd>\u001b[0m in \u001b[0;36m<module>\u001b[0;34m()\u001b[0m\n\u001b[1;32m      1\u001b[0m \u001b[0;32mimport\u001b[0m \u001b[0mcPickle\u001b[0m \u001b[0;32mas\u001b[0m \u001b[0mpickle\u001b[0m\u001b[0;34m\u001b[0m\u001b[0m\n\u001b[1;32m      2\u001b[0m \u001b[0;32mwith\u001b[0m \u001b[0mopen\u001b[0m\u001b[0;34m(\u001b[0m\u001b[0;34m\"modules/x_train_all.pkl\"\u001b[0m\u001b[0;34m,\u001b[0m \u001b[0;34m'w'\u001b[0m\u001b[0;34m)\u001b[0m \u001b[0;32mas\u001b[0m \u001b[0mf\u001b[0m\u001b[0;34m:\u001b[0m\u001b[0;34m\u001b[0m\u001b[0m\n\u001b[0;32m----> 3\u001b[0;31m     \u001b[0mpickle\u001b[0m\u001b[0;34m.\u001b[0m\u001b[0mdump\u001b[0m\u001b[0;34m(\u001b[0m\u001b[0mX_train_all\u001b[0m\u001b[0;34m,\u001b[0m \u001b[0mf\u001b[0m\u001b[0;34m)\u001b[0m\u001b[0;34m\u001b[0m\u001b[0m\n\u001b[0m",
      "\u001b[0;31mKeyboardInterrupt\u001b[0m: "
     ]
    }
   ],
   "source": [
    "import cPickle as pickle\n",
    "with open(\"modules/x_train_all.pkl\", 'w') as f:\n",
    "    pickle.dump(X_train_all, f)"
   ]
  },
  {
   "cell_type": "code",
   "execution_count": 224,
   "metadata": {
    "collapsed": false
   },
   "outputs": [
    {
     "name": "stdout",
     "output_type": "stream",
     "text": [
      "Init 1/3 with method: k-means++\n",
      "Inertia for init 1/3: 772.073242\n",
      "Init 2/3 with method: k-means++\n",
      "Inertia for init 2/3: 192.847388\n",
      "Init 3/3 with method: k-means++\n",
      "Inertia for init 3/3: 203.205943\n",
      "Minibatch iteration 1/13647400: mean batch inertia: 1.361005, ewa inertia: 1.361005 \n",
      "Minibatch iteration 2/13647400: mean batch inertia: 1.121448, ewa inertia: 1.361001 \n",
      "Minibatch iteration 3/13647400: mean batch inertia: 0.842367, ewa inertia: 1.360994 \n",
      "Minibatch iteration 4/13647400: mean batch inertia: 1.171768, ewa inertia: 1.360991 \n",
      "Minibatch iteration 5/13647400: mean batch inertia: 1.101602, ewa inertia: 1.360987 \n",
      "Minibatch iteration 6/13647400: mean batch inertia: 1.231966, ewa inertia: 1.360985 \n",
      "Minibatch iteration 7/13647400: mean batch inertia: 1.041692, ewa inertia: 1.360981 \n",
      "Minibatch iteration 8/13647400: mean batch inertia: 0.947314, ewa inertia: 1.360975 \n",
      "Minibatch iteration 9/13647400: mean batch inertia: 1.128416, ewa inertia: 1.360971 \n",
      "[MiniBatchKMeans] Reassigning 2 cluster centers.\n",
      "Minibatch iteration 10/13647400: mean batch inertia: 2.290130, ewa inertia: 1.360985 \n",
      "Minibatch iteration 11/13647400: mean batch inertia: 0.861889, ewa inertia: 1.360977 \n",
      "Minibatch iteration 12/13647400: mean batch inertia: 11.196638, ewa inertia: 1.361122 \n",
      "Minibatch iteration 13/13647400: mean batch inertia: 0.949475, ewa inertia: 1.361116 \n",
      "Minibatch iteration 14/13647400: mean batch inertia: 0.951804, ewa inertia: 1.361110 \n",
      "Minibatch iteration 15/13647400: mean batch inertia: 0.891909, ewa inertia: 1.361103 \n",
      "Minibatch iteration 16/13647400: mean batch inertia: 1.063341, ewa inertia: 1.361098 \n",
      "Minibatch iteration 17/13647400: mean batch inertia: 1.066824, ewa inertia: 1.361094 \n",
      "Minibatch iteration 18/13647400: mean batch inertia: 1.306608, ewa inertia: 1.361093 \n",
      "Minibatch iteration 19/13647400: mean batch inertia: 1.075564, ewa inertia: 1.361089 \n",
      "Converged (lack of improvement in inertia) at iteration 19/13647400\n",
      "Computing label assignment and total inertia\n"
     ]
    },
    {
     "ename": "ValueError",
     "evalue": "Incorrect number of features. Got 34 features, expected 25",
     "output_type": "error",
     "traceback": [
      "\u001b[0;31m---------------------------------------------------------------------------\u001b[0m",
      "\u001b[0;31mValueError\u001b[0m                                Traceback (most recent call last)",
      "\u001b[0;32m<ipython-input-224-775d418884c9>\u001b[0m in \u001b[0;36m<module>\u001b[0;34m()\u001b[0m\n\u001b[1;32m     10\u001b[0m \u001b[0;34m\u001b[0m\u001b[0m\n\u001b[1;32m     11\u001b[0m \u001b[0;34m\u001b[0m\u001b[0m\n\u001b[0;32m---> 12\u001b[0;31m \u001b[0mtrain_class\u001b[0m \u001b[0;34m=\u001b[0m \u001b[0mk_means\u001b[0m\u001b[0;34m.\u001b[0m\u001b[0mpredict\u001b[0m\u001b[0;34m(\u001b[0m\u001b[0mX_train\u001b[0m\u001b[0;34m)\u001b[0m\u001b[0;34m\u001b[0m\u001b[0m\n\u001b[0m\u001b[1;32m     13\u001b[0m \u001b[0mtest_class\u001b[0m\u001b[0;34m=\u001b[0m \u001b[0mk_means\u001b[0m\u001b[0;34m.\u001b[0m\u001b[0mpredict\u001b[0m\u001b[0;34m(\u001b[0m\u001b[0mX_test\u001b[0m\u001b[0;34m)\u001b[0m\u001b[0;34m\u001b[0m\u001b[0m\n",
      "\u001b[0;32m/Users/Aaron-MAC/anaconda/envs/mlp/lib/python2.7/site-packages/sklearn/cluster/k_means_.pyc\u001b[0m in \u001b[0;36mpredict\u001b[0;34m(self, X)\u001b[0m\n\u001b[1;32m   1539\u001b[0m         \u001b[0mcheck_is_fitted\u001b[0m\u001b[0;34m(\u001b[0m\u001b[0mself\u001b[0m\u001b[0;34m,\u001b[0m \u001b[0;34m'cluster_centers_'\u001b[0m\u001b[0;34m)\u001b[0m\u001b[0;34m\u001b[0m\u001b[0m\n\u001b[1;32m   1540\u001b[0m \u001b[0;34m\u001b[0m\u001b[0m\n\u001b[0;32m-> 1541\u001b[0;31m         \u001b[0mX\u001b[0m \u001b[0;34m=\u001b[0m \u001b[0mself\u001b[0m\u001b[0;34m.\u001b[0m\u001b[0m_check_test_data\u001b[0m\u001b[0;34m(\u001b[0m\u001b[0mX\u001b[0m\u001b[0;34m)\u001b[0m\u001b[0;34m\u001b[0m\u001b[0m\n\u001b[0m\u001b[1;32m   1542\u001b[0m         \u001b[0;32mreturn\u001b[0m \u001b[0mself\u001b[0m\u001b[0;34m.\u001b[0m\u001b[0m_labels_inertia_minibatch\u001b[0m\u001b[0;34m(\u001b[0m\u001b[0mX\u001b[0m\u001b[0;34m)\u001b[0m\u001b[0;34m[\u001b[0m\u001b[0;36m0\u001b[0m\u001b[0;34m]\u001b[0m\u001b[0;34m\u001b[0m\u001b[0m\n",
      "\u001b[0;32m/Users/Aaron-MAC/anaconda/envs/mlp/lib/python2.7/site-packages/sklearn/cluster/k_means_.pyc\u001b[0m in \u001b[0;36m_check_test_data\u001b[0;34m(self, X)\u001b[0m\n\u001b[1;32m    865\u001b[0m             raise ValueError(\"Incorrect number of features. \"\n\u001b[1;32m    866\u001b[0m                              \"Got %d features, expected %d\" % (\n\u001b[0;32m--> 867\u001b[0;31m                                  n_features, expected_n_features))\n\u001b[0m\u001b[1;32m    868\u001b[0m \u001b[0;34m\u001b[0m\u001b[0m\n\u001b[1;32m    869\u001b[0m         \u001b[0;32mreturn\u001b[0m \u001b[0mX\u001b[0m\u001b[0;34m\u001b[0m\u001b[0m\n",
      "\u001b[0;31mValueError\u001b[0m: Incorrect number of features. Got 34 features, expected 25"
     ]
    }
   ],
   "source": [
    "from sklearn.cluster import MiniBatchKMeans\n",
    "num_cluster = 100\n",
    "k_means = MiniBatchKMeans(n_clusters=num_cluster, verbose=True)\n",
    "\n",
    "\n",
    "k_means = k_means.fit(X_train_all)\n",
    "\n",
    "\n",
    "\n",
    "\n",
    "\n",
    "train_class = k_means.predict(X_train)\n",
    "test_class= k_means.predict(X_test)"
   ]
  },
  {
   "cell_type": "code",
   "execution_count": 223,
   "metadata": {
    "collapsed": false
   },
   "outputs": [],
   "source": [
    "\n",
    "arr = []\n",
    "for i in range(24):\n",
    "    sel = y_train==i\n",
    "    \n",
    "    if len(X_train[sel])>0:\n",
    "        arr.append(X_train[sel].mean(0))\n",
    "        \n",
    "\n",
    "feature_sel = np.array(arr).std(0)\n",
    "\n",
    "X_train = X_train[:, feature_sel>0.01]\n",
    "X_test = X_test[:, feature_sel>0.01]"
   ]
  },
  {
   "cell_type": "code",
   "execution_count": 225,
   "metadata": {
    "collapsed": false
   },
   "outputs": [
    {
     "data": {
      "text/plain": [
       "(30445, 34)"
      ]
     },
     "execution_count": 225,
     "metadata": {},
     "output_type": "execute_result"
    }
   ],
   "source": [
    "X_train.shape"
   ]
  },
  {
   "cell_type": "code",
   "execution_count": 211,
   "metadata": {
    "collapsed": false
   },
   "outputs": [],
   "source": [
    "from sklearn.linear_model import LogisticRegression\n",
    "\n",
    "models = []\n",
    "\n",
    "for i in range(num_cluster):\n",
    "    sel = train_class==i\n",
    "    model = LogisticRegression(multi_class='multinomial', solver='lbfgs', penalty='l2', C=1.)\n",
    "    model = model.fit(X_train[sel], y_train[sel])\n",
    "    models.append(model)"
   ]
  },
  {
   "cell_type": "code",
   "execution_count": 189,
   "metadata": {
    "collapsed": false,
    "scrolled": true
   },
   "outputs": [
    {
     "name": "stdout",
     "output_type": "stream",
     "text": [
      "      Iter       Train Loss   Remaining Time \n",
      "         1        7462.8873           23.84s\n",
      "         2        6638.3817           20.64s\n",
      "         3        6073.2151           20.66s\n",
      "         4        5653.8772           20.03s\n",
      "         5        5320.8267           20.91s\n",
      "         6        5056.7670           20.78s\n",
      "         7        4836.2295           20.47s\n",
      "         8        4652.2806           20.44s\n",
      "         9        4497.0100           19.97s\n",
      "        10        4362.7562           19.89s\n",
      "        20        3646.6679           17.80s\n",
      "        30        3345.8381           17.18s\n",
      "        40        3161.3319           16.23s\n",
      "        50        3025.5514           15.39s\n",
      "        60        2908.6540           14.43s\n",
      "        70        2811.8323           13.26s\n",
      "        80        2730.0397           11.92s\n",
      "        90        2647.7895           10.88s\n",
      "       100        2574.1245            9.65s\n",
      "       200        2090.6647            0.00s\n",
      "      Iter       Train Loss   Remaining Time \n",
      "         1        7497.4834           14.42s\n",
      "         2        6832.8401           14.25s\n",
      "         3        6377.6093           14.78s\n",
      "         4        6029.4649           15.64s\n",
      "         5        5754.0587           15.36s\n",
      "         6        5533.2447           15.83s\n",
      "         7        5348.3238           15.74s\n",
      "         8        5192.0257           15.43s\n",
      "         9        5052.1201           15.34s\n",
      "        10        4936.7756           15.20s\n",
      "        20        4239.4652           14.38s\n",
      "        30        3924.6485           13.54s\n",
      "        40        3711.6442           12.55s\n",
      "        50        3565.8999           11.60s\n",
      "        60        3441.1263           10.66s\n",
      "        70        3342.9949            9.93s\n",
      "        80        3248.0371            9.45s\n",
      "        90        3152.6883            8.71s\n",
      "       100        3066.0750            7.88s\n",
      "       200        2470.0099            0.00s\n",
      "      Iter       Train Loss   Remaining Time \n",
      "         1        5982.0373            8.39s\n",
      "         2        5402.6896            8.46s\n",
      "         3        5000.4044            8.61s\n",
      "         4        4692.6978            8.72s\n",
      "         5        4452.1808            9.10s\n",
      "         6        4254.7133            9.31s\n",
      "         7        4091.4095            9.26s\n",
      "         8        3951.6718            9.19s\n",
      "         9        3836.8818            9.13s\n",
      "        10        3736.1649            9.29s\n",
      "        20        3199.4058            8.89s\n",
      "        30        2987.3886            9.61s\n",
      "        40        2864.2922            8.59s\n",
      "        50        2775.5093            7.87s\n",
      "        60        2697.8536            7.19s\n",
      "        70        2635.0993            6.81s\n",
      "        80        2573.6387            6.21s\n",
      "        90        2529.1579            5.93s\n",
      "       100        2486.4356            5.46s\n",
      "       200        2187.8789            0.00s\n",
      "      Iter       Train Loss   Remaining Time \n",
      "         1       14576.5090           25.91s\n",
      "         2       13353.0056           27.06s\n",
      "         3       12513.6901           26.54s\n",
      "         4       11881.6661           27.00s\n",
      "         5       11383.9729           26.63s\n",
      "         6       10983.8986           26.74s\n",
      "         7       10648.9559           26.38s\n",
      "         8       10373.5227           26.40s\n",
      "         9       10135.7601           26.16s\n",
      "        10        9932.2663           27.15s\n",
      "        20        8835.2009           26.77s\n",
      "        30        8349.0201           24.42s\n",
      "        40        8054.1082           22.44s\n",
      "        50        7854.9338           21.88s\n",
      "        60        7674.9960           20.97s\n",
      "        70        7527.5117           19.25s\n",
      "        80        7396.7587           17.74s\n",
      "        90        7276.2417           16.09s\n",
      "       100        7156.3692           14.63s\n",
      "       200        6310.5080            0.00s\n",
      "      Iter       Train Loss   Remaining Time \n",
      "         1        8342.4560           14.35s\n",
      "         2        7454.5895           14.57s\n",
      "         3        6843.3917           14.90s\n",
      "         4        6383.5628           15.29s\n",
      "         5        6022.9260           15.13s\n",
      "         6        5734.0888           15.49s\n",
      "         7        5492.3001           16.11s\n",
      "         8        5288.4607           16.65s\n",
      "         9        5114.4923           16.56s\n",
      "        10        4968.9428           16.65s\n",
      "        20        4201.1140           16.47s\n",
      "        30        3885.5782           14.64s\n",
      "        40        3711.0749           13.29s\n",
      "        50        3566.8123           12.20s\n",
      "        60        3464.7627           11.26s\n",
      "        70        3363.8773           10.35s\n",
      "        80        3280.1090            9.46s\n",
      "        90        3210.1630            8.59s\n",
      "       100        3145.4619            7.76s\n",
      "       200        2691.4546            0.00s\n",
      "      Iter       Train Loss   Remaining Time \n",
      "         1        5816.2565           10.24s\n",
      "         2        5046.8541           10.06s\n",
      "         3        4525.9138            9.71s\n",
      "         4        4142.5807            9.58s\n",
      "         5        3843.0337            9.72s\n",
      "         6        3606.9437            9.90s\n",
      "         7        3419.2551           11.07s\n",
      "         8        3267.9911           11.87s\n",
      "         9        3142.8970           11.67s\n",
      "        10        3032.0990           11.47s\n",
      "        20        2521.3938           10.39s\n",
      "        30        2342.1651            9.61s\n",
      "        40        2228.5885            8.67s\n",
      "        50        2161.9434            8.36s\n",
      "        60        2105.5699            8.25s\n",
      "        70        2049.4443            7.78s\n",
      "        80        2011.9862            7.02s\n",
      "        90        1974.9648            6.38s\n",
      "       100        1943.0118            5.70s\n",
      "       200        1695.0163            0.00s\n",
      "      Iter       Train Loss   Remaining Time \n",
      "         1        2952.7371            5.70s\n",
      "         2        2553.1861            5.59s\n",
      "         3        2276.6720            5.56s\n",
      "         4        2067.2800            5.55s\n",
      "         5        1901.4514            5.55s\n",
      "         6        1771.6384            5.59s\n",
      "         7        1660.2279            5.60s\n",
      "         8        1569.3103            5.86s\n",
      "         9        1493.3753            5.92s\n",
      "        10        1427.3984            5.86s\n",
      "        20        1085.5345            5.54s\n",
      "        30         937.2287            5.27s\n",
      "        40         850.4113            4.89s\n",
      "        50         785.7439            4.55s\n",
      "        60         734.7570            4.21s\n",
      "        70         690.3843            3.87s\n",
      "        80         650.3568            3.54s\n",
      "        90         616.4296            3.22s\n",
      "       100         586.4374            2.93s\n",
      "       200         371.7200            0.00s\n",
      "      Iter       Train Loss   Remaining Time \n",
      "         1        5605.2486           11.05s\n",
      "         2        5077.9308           11.50s\n",
      "         3        4707.3282           11.43s\n",
      "         4        4428.6721           11.93s\n",
      "         5        4207.5362           11.93s\n",
      "         6        4029.0000           12.41s\n",
      "         7        3879.8928           13.18s\n",
      "         8        3754.8842           13.86s\n",
      "         9        3647.8666           13.89s\n",
      "        10        3554.6380           13.79s\n",
      "        20        3019.4426           12.83s\n",
      "        30        2738.2546           12.21s\n",
      "        40        2562.1879           11.78s\n",
      "        50        2420.8483           10.88s\n",
      "        60        2305.9466            9.90s\n",
      "        70        2199.2486            8.88s\n",
      "        80        2104.2779            8.19s\n",
      "        90        2021.7219            7.43s\n",
      "       100        1940.3562            6.71s\n",
      "       200        1419.7376            0.00s\n",
      "      Iter       Train Loss   Remaining Time \n",
      "         1        6766.9774           12.81s\n",
      "         2        6121.4181           12.56s\n",
      "         3        5682.6806           12.52s\n",
      "         4        5353.3631           12.94s\n",
      "         5        5097.1039           12.81s\n",
      "         6        4890.8311           12.75s\n",
      "         7        4719.3831           12.63s\n",
      "         8        4577.7127           12.75s\n",
      "         9        4456.6661           12.65s\n",
      "        10        4356.2249           12.58s\n",
      "        20        3780.1458           11.72s\n",
      "        30        3516.4719           11.23s\n",
      "        40        3339.7630           10.79s\n",
      "        50        3209.5117           10.31s\n",
      "        60        3100.4800            9.53s\n",
      "        70        2990.0843            8.65s\n",
      "        80        2899.5038            7.86s\n",
      "        90        2818.7289            7.14s\n",
      "       100        2744.2106            6.44s\n",
      "       200        2215.6997            0.00s\n",
      "      Iter       Train Loss   Remaining Time \n",
      "         1        3366.3707            5.39s\n",
      "         2        3011.0875            5.49s\n",
      "         3        2759.0479            5.31s\n",
      "         4        2568.7348            5.24s\n",
      "         5        2414.8782            5.24s\n",
      "         6        2288.0187            5.17s\n",
      "         7        2182.7514            5.12s\n",
      "         8        2094.1918            5.12s\n",
      "         9        2017.5658            5.33s\n",
      "        10        1954.0928            5.28s\n",
      "        20        1581.6278            4.98s\n",
      "        30        1432.1968            4.67s\n",
      "        40        1345.6153            4.38s\n",
      "        50        1285.6189            4.10s\n",
      "        60        1241.1503            3.81s\n",
      "        70        1201.2933            3.52s\n",
      "        80        1166.6702            3.21s\n",
      "        90        1138.8564            2.92s\n",
      "       100        1115.6856            2.64s\n",
      "       200         979.0946            0.00s\n"
     ]
    }
   ],
   "source": [
    "from sklearn.ensemble import GradientBoostingClassifier\n",
    "\n",
    "models = []\n",
    "\n",
    "for i in range(num_cluster):\n",
    "    sel = train_class==i\n",
    "    model = GradientBoostingClassifier(verbose=True, n_estimators=200)\n",
    "    model = model.fit(X_train[sel], y_train[sel])\n",
    "    models.append(model)  "
   ]
  },
  {
   "cell_type": "code",
   "execution_count": 191,
   "metadata": {
    "collapsed": false
   },
   "outputs": [
    {
     "name": "stdout",
     "output_type": "stream",
     "text": [
      "      Iter       Train Loss   Remaining Time \n",
      "         1       72667.7615            1.33m\n",
      "         2       65614.8459            1.33m\n",
      "         3       60744.8544            1.30m\n",
      "         4       57128.2899            1.29m\n",
      "         5       54304.6298            1.28m\n",
      "         6       52061.6114            1.27m\n",
      "         7       50195.9573            1.26m\n",
      "         8       48641.6424            1.25m\n",
      "         9       47304.3776            1.23m\n",
      "        10       46197.5917            1.23m\n",
      "        20       40384.5480            1.07m\n",
      "        30       38275.3046           55.81s\n",
      "        40       37233.3295           47.77s\n",
      "        50       36563.6362           39.75s\n",
      "        60       36108.7735           31.72s\n",
      "        70       35733.4760           23.81s\n",
      "        80       35396.0541           16.04s\n",
      "        90       35113.1272            8.04s\n",
      "       100       34856.2954            0.00s\n"
     ]
    }
   ],
   "source": [
    "from sklearn.ensemble import GradientBoostingClassifier\n",
    "\n",
    "model = GradientBoostingClassifier(verbose=True, n_estimators=100)\n",
    "model = model.fit(X_train, y_train)"
   ]
  },
  {
   "cell_type": "code",
   "execution_count": 5,
   "metadata": {
    "collapsed": false
   },
   "outputs": [
    {
     "name": "stderr",
     "output_type": "stream",
     "text": [
      "[Parallel(n_jobs=1)]: Done 100 out of 100 | elapsed:    7.7s finished\n"
     ]
    }
   ],
   "source": [
    "from sklearn.ensemble import RandomForestClassifier\n",
    "\n",
    "model = RandomForestClassifier(n_estimators=100, verbose=True)\n",
    "model = model.fit(X_train, y_train)"
   ]
  },
  {
   "cell_type": "code",
   "execution_count": 212,
   "metadata": {
    "collapsed": false
   },
   "outputs": [
    {
     "name": "stdout",
     "output_type": "stream",
     "text": [
      "(931453, 11)\n",
      "(931453, 13)\n",
      "(931453, 12)\n",
      "(931453, 14)\n",
      "(931453, 11)\n",
      "(931453, 12)\n",
      "(931453, 12)\n",
      "(931453, 13)\n",
      "(931453, 13)\n",
      "(931453, 12)\n",
      "(931453, 16)\n",
      "(931453, 8)\n",
      "(931453, 13)\n",
      "(931453, 15)\n",
      "(931453, 11)\n",
      "(931453, 13)\n",
      "(931453, 9)\n",
      "(931453, 12)\n",
      "(931453, 16)\n",
      "(931453, 11)\n",
      "(931453, 14)\n",
      "(931453, 13)\n",
      "(931453, 13)\n",
      "(931453, 12)\n",
      "(931453, 12)\n",
      "(931453, 11)\n",
      "(931453, 8)\n",
      "(931453, 12)\n",
      "(931453, 18)\n",
      "(931453, 11)\n",
      "(931453, 7)\n",
      "(931453, 12)\n",
      "(931453, 11)\n",
      "(931453, 12)\n",
      "(931453, 9)\n",
      "(931453, 14)\n",
      "(931453, 8)\n",
      "(931453, 10)\n",
      "(931453, 11)\n",
      "(931453, 12)\n",
      "(931453, 14)\n",
      "(931453, 13)\n",
      "(931453, 10)\n",
      "(931453, 14)\n",
      "(931453, 11)\n",
      "(931453, 8)\n",
      "(931453, 9)\n",
      "(931453, 6)\n",
      "(931453, 9)\n",
      "(931453, 14)\n",
      "(931453, 16)\n",
      "(931453, 11)\n",
      "(931453, 13)\n",
      "(931453, 14)\n",
      "(931453, 11)\n",
      "(931453, 12)\n",
      "(931453, 11)\n",
      "(931453, 10)\n",
      "(931453, 11)\n",
      "(931453, 13)\n",
      "(931453, 13)\n",
      "(931453, 12)\n",
      "(931453, 10)\n",
      "(931453, 13)\n",
      "(931453, 13)\n",
      "(931453, 12)\n",
      "(931453, 7)\n",
      "(931453, 13)\n",
      "(931453, 11)\n",
      "(931453, 13)\n",
      "(931453, 12)\n",
      "(931453, 13)\n",
      "(931453, 14)\n",
      "(931453, 12)\n",
      "(931453, 5)\n",
      "(931453, 14)\n",
      "(931453, 11)\n",
      "(931453, 12)\n",
      "(931453, 10)\n",
      "(931453, 11)\n",
      "(931453, 12)\n",
      "(931453, 14)\n",
      "(931453, 13)\n",
      "(931453, 7)\n",
      "(931453, 9)\n",
      "(931453, 12)\n",
      "(931453, 13)\n",
      "(931453, 13)\n",
      "(931453, 12)\n",
      "(931453, 9)\n",
      "(931453, 14)\n",
      "(931453, 16)\n",
      "(931453, 8)\n",
      "(931453, 10)\n",
      "(931453, 7)\n",
      "(931453, 13)\n",
      "(931453, 14)\n",
      "(931453, 13)\n",
      "(931453, 14)\n",
      "(931453, 9)\n"
     ]
    }
   ],
   "source": [
    "predict = np.zeros((X_test.shape[0], 24))\n",
    "for i in range(num_cluster):\n",
    "    model = models[i]\n",
    "    predict1 = model.predict_proba(X_test)*((test_class==i)[:,None])\n",
    "    print predict1.shape\n",
    "    predict_expand = []\n",
    "    for j in range(24):\n",
    "        if j in model.classes_:\n",
    "            idx = list(model.classes_).index(j)\n",
    "            predict_expand.append(predict1[:,idx])\n",
    "        else:\n",
    "            predict_expand.append(np.zeros((len(predict),)))\n",
    "    predict_expand = np.array(predict_expand).T\n",
    "    predict += predict_expand"
   ]
  },
  {
   "cell_type": "code",
   "execution_count": 192,
   "metadata": {
    "collapsed": false
   },
   "outputs": [
    {
     "data": {
      "text/plain": [
       "array([ 2,  3,  4,  5,  6,  7,  8,  9, 10, 11, 12, 13, 14, 15, 16, 17, 18,\n",
       "       19, 20, 21, 22, 23])"
      ]
     },
     "execution_count": 192,
     "metadata": {},
     "output_type": "execute_result"
    }
   ],
   "source": [
    "predict = model.predict_proba(X_test)\n",
    "\n",
    "model.classes_"
   ]
  },
  {
   "cell_type": "code",
   "execution_count": 193,
   "metadata": {
    "collapsed": true
   },
   "outputs": [],
   "source": [
    "predict = np.hstack([np.zeros((predict.shape[0],2)), predict])"
   ]
  },
  {
   "cell_type": "code",
   "execution_count": 213,
   "metadata": {
    "collapsed": false
   },
   "outputs": [],
   "source": [
    "mask = X_test_unred[:, :24]==0\n",
    "predict = predict*mask"
   ]
  },
  {
   "cell_type": "code",
   "execution_count": 215,
   "metadata": {
    "collapsed": false
   },
   "outputs": [
    {
     "data": {
      "text/plain": [
       "array([[ 0.        ,  0.        ,  0.32280732, ...,  0.00717791,\n",
       "         0.00717791,  0.05734443],\n",
       "       [ 0.        ,  0.        ,  0.        , ...,  0.03156074,\n",
       "         0.03156074,  0.57766704],\n",
       "       [ 0.        ,  0.        ,  0.        , ...,  0.02883378,\n",
       "         0.02883378,  0.52222991],\n",
       "       ..., \n",
       "       [ 0.        ,  0.        ,  0.        , ...,  0.08313362,\n",
       "         0.08680276,  0.58035253],\n",
       "       [ 0.        ,  0.        ,  0.        , ...,  0.08271312,\n",
       "         0.08271116,  0.63940396],\n",
       "       [ 0.        ,  0.        ,  0.78331671, ...,  0.01811832,\n",
       "         0.01811832,  0.02958959]])"
      ]
     },
     "execution_count": 215,
     "metadata": {},
     "output_type": "execute_result"
    }
   ],
   "source": [
    "predict"
   ]
  },
  {
   "cell_type": "code",
   "execution_count": 216,
   "metadata": {
    "collapsed": false
   },
   "outputs": [
    {
     "name": "stdout",
     "output_type": "stream",
     "text": [
      "[ 0  1  3 10 14 15 16 20]\n",
      "931453\n"
     ]
    }
   ],
   "source": [
    "f = open(\"outputs/test_3.csv\", 'w')\n",
    "f.write(\"ncodpers,added_products\\n\")\n",
    "\n",
    "user_id = test_set['ncodpers']\n",
    "\n",
    "count = np.bincount(y_train)\n",
    "ban_list = np.argwhere(count<count.max()*0.005)[:,0]\n",
    "print ban_list\n",
    "print len(predict)\n",
    "\n",
    "for idx,r in enumerate(predict):\n",
    "    order = [i[0] for i in sorted(enumerate(r), key=lambda x:x[1], reverse=True)]\n",
    "    order = [x for x in order if x not in ban_list]\n",
    "    select = order[:min(7,len(order))]\n",
    "    f.write(str(user_id[idx])+\",\"+(\" \".join([products[s] for s in select]))+'\\n')\n",
    "f.close()"
   ]
  },
  {
   "cell_type": "code",
   "execution_count": 217,
   "metadata": {
    "collapsed": false
   },
   "outputs": [
    {
     "data": {
      "text/plain": [
       "0.06487153114714725"
      ]
     },
     "execution_count": 217,
     "metadata": {},
     "output_type": "execute_result"
    }
   ],
   "source": [
    "from modules.evaluation import *\n",
    "eval_submission('test_3.csv', year=2016, month=5, cache=cache)"
   ]
  },
  {
   "cell_type": "code",
   "execution_count": 167,
   "metadata": {
    "collapsed": false
   },
   "outputs": [
    {
     "name": "stdout",
     "output_type": "stream",
     "text": [
      "[ 0  1  3 10 14 15 16 20]\n",
      "[   0    0 5355    7 1987   84  308  298  174  435   25 1005 1480  438   11\n",
      "   24   13  343 4191  213    4 3444 3423 7183]\n"
     ]
    }
   ],
   "source": [
    "count = np.bincount(y_train)\n",
    "ban_list = np.argwhere(count<count.max()*0.01)[:,0]\n",
    "print ban_list\n",
    "print count"
   ]
  },
  {
   "cell_type": "code",
   "execution_count": 210,
   "metadata": {
    "collapsed": false
   },
   "outputs": [
    {
     "data": {
      "text/plain": [
       "0            1\n",
       "261         -2\n",
       "34117        3\n",
       "345803       2\n",
       "3784704    1.0\n",
       "3784910      1\n",
       "3787486      3\n",
       "3789784    3.0\n",
       "3791902    2.0\n",
       "3792759    4.0\n",
       "3793334      P\n",
       "3794936      4\n",
       "3857560      4\n",
       "3887238      2\n",
       "Name: indrel_1mes, dtype: object"
      ]
     },
     "execution_count": 210,
     "metadata": {},
     "output_type": "execute_result"
    }
   ],
   "source": [
    "cache[\"indrel_1mes\"].drop_duplicates()"
   ]
  },
  {
   "cell_type": "code",
   "execution_count": null,
   "metadata": {
    "collapsed": true
   },
   "outputs": [],
   "source": []
  }
 ],
 "metadata": {
  "anaconda-cloud": {},
  "kernelspec": {
   "display_name": "Python [conda env:mlp]",
   "language": "python",
   "name": "conda-env-mlp-py"
  },
  "language_info": {
   "codemirror_mode": {
    "name": "ipython",
    "version": 2
   },
   "file_extension": ".py",
   "mimetype": "text/x-python",
   "name": "python",
   "nbconvert_exporter": "python",
   "pygments_lexer": "ipython2",
   "version": "2.7.12"
  }
 },
 "nbformat": 4,
 "nbformat_minor": 1
}
