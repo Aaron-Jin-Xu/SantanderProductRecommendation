{
 "cells": [
  {
   "cell_type": "code",
   "execution_count": 40,
   "metadata": {
    "collapsed": true
   },
   "outputs": [],
   "source": [
    "import pandas as pd\n",
    "import numpy as np"
   ]
  },
  {
   "cell_type": "code",
   "execution_count": 41,
   "metadata": {
    "collapsed": false
   },
   "outputs": [],
   "source": [
    "train_set = pd.read_csv(\"train_ver2.csv\")\n",
    "test_set = train_set.loc[train_set['fecha_dato']=='2016-04-28', :\"segmento\"]\n",
    "#test_set = pd.read_csv(\"test_ver2.csv\")"
   ]
  },
  {
   "cell_type": "code",
   "execution_count": 42,
   "metadata": {
    "collapsed": false
   },
   "outputs": [
    {
     "data": {
      "text/plain": [
       "928274"
      ]
     },
     "execution_count": 42,
     "metadata": {},
     "output_type": "execute_result"
    }
   ],
   "source": [
    "len(test_set)"
   ]
  },
  {
   "cell_type": "code",
   "execution_count": 43,
   "metadata": {
    "collapsed": false
   },
   "outputs": [],
   "source": [
    "drop_list = ['fecha_alta', 'ult_fec_cli_1t', 'canal_entrada', 'cod_prov', 'indrel_1mes', 'conyuemp']\n",
    "train_set.drop(drop_list, axis=1, inplace=True)\n",
    "test_set.drop(drop_list, axis=1, inplace=True)\n",
    "\n",
    "#train_set.loc[:, 'conyuemp'] = train_set['conyuemp'].fillna(0)\n",
    "#test_set.loc[:, 'conyuemp'] = test_set['conyuemp'].fillna(0)"
   ]
  },
  {
   "cell_type": "code",
   "execution_count": 44,
   "metadata": {
    "collapsed": false
   },
   "outputs": [],
   "source": [
    "train_set_505 = train_set.loc[(train_set['fecha_dato']=='2015-03-28')]\n",
    "train_set_506 = train_set.loc[(train_set['fecha_dato']=='2015-04-28')]\n",
    "train_set_505.set_index('ncodpers', inplace=True)\n",
    "train_set_506.set_index('ncodpers', inplace=True)\n",
    "train_set_june = train_set_505.copy()\n",
    "train_set_june.loc[:, \"ind_ahor_fin_ult1\":\"ind_recibo_ult1\"] = train_set_506.loc[:, \"ind_ahor_fin_ult1\":\"ind_recibo_ult1\"] - train_set_505.loc[:, \"ind_ahor_fin_ult1\":\"ind_recibo_ult1\"]\n",
    "train_set_june.dropna(inplace=True)\n",
    "train_set_june['filter'] = train_set_june.loc[:, \"ind_ahor_fin_ult1\":\"ind_recibo_ult1\"].abs().sum(1)\n",
    "train_set_june = train_set_june[train_set_june['filter']>0]\n",
    "train_set_june_y = train_set_june.loc[:, \"ind_ahor_fin_ult1\":\"ind_recibo_ult1\"].copy().reset_index()\n",
    "train_set_june_y.loc[:, \"ind_ahor_fin_ult1\":\"ind_recibo_ult1\"] = (train_set_june_y.loc[:, \"ind_ahor_fin_ult1\":\"ind_recibo_ult1\"]>0).astype(float)\n",
    "train_set_june = train_set_june.loc[:, :\"segmento\"]\n",
    "train_set_june.reset_index(inplace=True)\n",
    "\n",
    "train_set_june.drop(['fecha_dato'], axis=1, inplace=True)\n",
    "test_set.drop(['fecha_dato'], axis=1, inplace=True)"
   ]
  },
  {
   "cell_type": "code",
   "execution_count": 45,
   "metadata": {
    "collapsed": false
   },
   "outputs": [],
   "source": [
    "product_list = list(train_set.columns)[list(train_set.columns).index(\"ind_ahor_fin_ult1\"):list(train_set.columns).index(\"ind_recibo_ult1\")+1]\n",
    "def append_last_month(data_set, last_month): \n",
    "    return pd.merge(data_set, last_month.loc[:, ['ncodpers']+product_list].drop_duplicates(), how=\"inner\", on='ncodpers')\n",
    "    \n",
    "train_set_june = append_last_month(train_set_june, train_set.loc[(train_set['fecha_dato']=='2015-03-28')])\n",
    "test_set = append_last_month(test_set, train_set.loc[(train_set['fecha_dato']=='2016-03-28')])"
   ]
  },
  {
   "cell_type": "code",
   "execution_count": 46,
   "metadata": {
    "collapsed": true
   },
   "outputs": [],
   "source": [
    "province_code = train_set.groupby(\"nomprov\").agg({\"renta\":np.mean}).sort_values(by='renta', ascending=False).reset_index().reset_index().drop([\"renta\"], axis=1)\n",
    "province_code.columns = ['f_nomprov', \"nomprov\"]\n",
    "\n",
    "country_code = train_set.groupby('pais_residencia').agg({'renta':np.mean}).sort_values(by='renta', ascending=False).reset_index().reset_index().drop([\"renta\"], axis=1)\n",
    "country_code.columns = ['f_pais_residencia', \"pais_residencia\"]\n",
    "\n",
    "renta_missing = train_set_june['renta'].mean()"
   ]
  },
  {
   "cell_type": "code",
   "execution_count": 47,
   "metadata": {
    "collapsed": false
   },
   "outputs": [],
   "source": [
    "def one_hot_encoding(df, column_name, value_set):\n",
    "    df1 = df.copy()\n",
    "    assert len(value_set)>1, \"len of value set should >1\"\n",
    "    if len(value_set)==2:\n",
    "        df1[\"f_{0}\".format(column_name)] = df1[column_name].apply(lambda x: 1 if x==value_set[0] else 0)\n",
    "    else:\n",
    "        for v in value_set:\n",
    "            df1[\"f_{0}_{1}\".format(column_name, v)] = df1[column_name].apply(lambda x: 1 if x==v else 0)\n",
    "    return df1"
   ]
  },
  {
   "cell_type": "code",
   "execution_count": 48,
   "metadata": {
    "collapsed": false
   },
   "outputs": [],
   "source": [
    "import gc\n",
    "\n",
    "def encode_feature(X):\n",
    "    X1 = X.copy()\n",
    "    get_value_set = lambda x: list(train_set[x].drop_duplicates().dropna())\n",
    "    one_hot_encoding_list = [\"ind_empleado\", \"sexo\",  \"tiprel_1mes\", \"indresi\", \"indext\", \"indfall\", \"ind_actividad_cliente\", \"segmento\"]\n",
    "    for c in one_hot_encoding_list:\n",
    "        # print c\n",
    "        X1 = one_hot_encoding(X1, c, get_value_set(c))\n",
    "        gc.collect()\n",
    "    copy_feature_list = ['age', 'antiguedad', 'indrel', 'ind_nuevo', 'tipodom']\n",
    "    for c in copy_feature_list:\n",
    "        X1['f_'+c] = X1[c]  \n",
    "    X1 = pd.merge(X1, province_code, how=\"left\", on=['nomprov'])\n",
    "    X1 = X1.fillna(province_code['f_nomprov'].mean())\n",
    "    X1 = pd.merge(X1, country_code, how=\"left\", on=['pais_residencia'])\n",
    "    X1 = X1.fillna(country_code['f_pais_residencia'].mean())\n",
    "    X1['f_renta'] = (X1['renta'].apply(lambda x: renta_missing if \"NA\" in str(x) else x)).astype(float)\n",
    "    X1.drop(one_hot_encoding_list+copy_feature_list+['nomprov', 'pais_residencia', 'renta'], axis=1, inplace=True)\n",
    "    return X1\n",
    "\n",
    "train_feature = encode_feature(train_set_june)\n",
    "test_feature = encode_feature(test_set)"
   ]
  },
  {
   "cell_type": "code",
   "execution_count": 49,
   "metadata": {
    "collapsed": false
   },
   "outputs": [
    {
     "name": "stdout",
     "output_type": "stream",
     "text": [
      "37253\n",
      "37253\n",
      "923414\n"
     ]
    }
   ],
   "source": [
    "print len(train_feature)\n",
    "print len(train_set_june_y)\n",
    "train_feature = train_feature.sort_values(by='ncodpers')\n",
    "train_set_june_y = train_set_june_y.sort_values(by='ncodpers')\n",
    "X_train = np.array(train_feature.iloc[:, 1:].astype(float).values)\n",
    "y_train = np.array((train_set_june_y.iloc[:, 1:]>0).astype(int).values)\n",
    "X_test = np.array(test_feature.iloc[:, 1:].astype(float).values)\n",
    "print len(X_test)"
   ]
  },
  {
   "cell_type": "code",
   "execution_count": 50,
   "metadata": {
    "collapsed": false
   },
   "outputs": [
    {
     "name": "stderr",
     "output_type": "stream",
     "text": [
      "[Parallel(n_jobs=1)]: Done  50 out of  50 | elapsed:    9.0s finished\n"
     ]
    }
   ],
   "source": [
    "from sklearn.ensemble import RandomForestClassifier\n",
    "\n",
    "clm = RandomForestClassifier(n_estimators=50, verbose=1, criterion='entropy', class_weight='balanced', max_depth=10)\n",
    "clm = clm.fit(X_train, y_train)"
   ]
  },
  {
   "cell_type": "code",
   "execution_count": 51,
   "metadata": {
    "collapsed": false
   },
   "outputs": [
    {
     "name": "stderr",
     "output_type": "stream",
     "text": [
      "[Parallel(n_jobs=1)]: Done  50 out of  50 | elapsed:  2.7min finished\n"
     ]
    }
   ],
   "source": [
    "predict = clm.predict_proba(X_test)"
   ]
  },
  {
   "cell_type": "code",
   "execution_count": null,
   "metadata": {
    "collapsed": false
   },
   "outputs": [],
   "source": []
  },
  {
   "cell_type": "code",
   "execution_count": null,
   "metadata": {
    "collapsed": true
   },
   "outputs": [],
   "source": []
  },
  {
   "cell_type": "code",
   "execution_count": 52,
   "metadata": {
    "collapsed": false
   },
   "outputs": [],
   "source": [
    "arr = []\n",
    "for p in predict:\n",
    "    if p.shape[1]==1:\n",
    "        arr.append(1-p[:,0])\n",
    "    else:\n",
    "        arr.append(p[:,1])\n",
    "ret = np.array(arr).T"
   ]
  },
  {
   "cell_type": "code",
   "execution_count": 53,
   "metadata": {
    "collapsed": false
   },
   "outputs": [
    {
     "data": {
      "text/plain": [
       "array([    78,     16, 561433,    319,  70141,   7617,   8715, 101377,\n",
       "        33630,    331,   1076,  33188,  72063,  14893,   4565,   7366,\n",
       "         1996,  44463,  34329,  21459,   2982,  47030,  50912, 110872])"
      ]
     },
     "execution_count": 53,
     "metadata": {},
     "output_type": "execute_result"
    }
   ],
   "source": [
    "np.array((test_feature.loc[:, product_list]!=0).values).sum(0)"
   ]
  },
  {
   "cell_type": "code",
   "execution_count": 54,
   "metadata": {
    "collapsed": false
   },
   "outputs": [
    {
     "name": "stdout",
     "output_type": "stream",
     "text": [
      "923414\n"
     ]
    }
   ],
   "source": [
    "filter1 = np.array((test_feature.loc[:, product_list]==0).values)\n",
    "ret = ret*filter1\n",
    "user_id = list(test_set[\"ncodpers\"])\n",
    "\n",
    "f = open(\"test_sub.csv\", 'w')\n",
    "f.write(\"ncodpers,added_products\\n\")\n",
    "\n",
    "print len(ret)\n",
    "\n",
    "for idx,r in enumerate(ret):\n",
    "    order = [i[0] for i in sorted(enumerate(r), key=lambda x:x[1], reverse=True)]\n",
    "    select = order[:min(7,len(order))]\n",
    "    f.write(str(user_id[idx])+\",\"+(\" \".join([product_list[s] for s in select]))+'\\n')\n",
    "f.close()"
   ]
  },
  {
   "cell_type": "code",
   "execution_count": 55,
   "metadata": {
    "collapsed": false
   },
   "outputs": [
    {
     "data": {
      "text/plain": [
       "ncodpers                                                       25582682812\n",
       "ind_empleado             NNNNNNNNNNNNNNNNNNNNNNNNNNNNNNNNNNNNNNNNNNNNNN...\n",
       "pais_residencia          ESESESESESESESESESESESESESESESESESESESESESESES...\n",
       "sexo                     HVVVHVHHVVVVVVVVHHVVVVHVVVVHVVVVHVHVVVVHVVVVHV...\n",
       "age                       37 47 52 38 45 49 32 45 47 49 38 46 42 42 39 ...\n",
       "ind_nuevo                                                             1106\n",
       "antiguedad                   118    118    118    118    114    118    ...\n",
       "indrel                                                               37351\n",
       "tiprel_1mes              AAAAAAAAIAAAAAAAAAAAAAAAAAAAAAAAAAAAAAAAIAAAAA...\n",
       "indresi                  SSSSSSSSSSSSSSSSSSSSSSSSSSSSSSSSSSSSSSSSSSSSSS...\n",
       "indext                   NNNNNNNNNNNSNNNNNNNNNNNNNNNSNNNNNNNNNNNNNNNNNN...\n",
       "indfall                  NNNNNNNNNNNNNNNNNNNNNNNNNNNNNNNNNNNNNNNNNNNNNN...\n",
       "tipodom                                                              37253\n",
       "nomprov                  MADRIDVALENCIAMADRIDMALAGAMADRIDALICANTEMADRID...\n",
       "ind_actividad_cliente                                                34212\n",
       "renta                                                          5.44625e+09\n",
       "segmento                 02 - PARTICULARES02 - PARTICULARES02 - PARTICU...\n",
       "ind_ahor_fin_ult1                                                       15\n",
       "ind_aval_fin_ult1                                                        6\n",
       "ind_cco_fin_ult1                                                     21195\n",
       "ind_cder_fin_ult1                                                       45\n",
       "ind_cno_fin_ult1                                                     13522\n",
       "ind_ctju_fin_ult1                                                       72\n",
       "ind_ctma_fin_ult1                                                     1130\n",
       "ind_ctop_fin_ult1                                                     6853\n",
       "ind_ctpp_fin_ult1                                                     4605\n",
       "ind_deco_fin_ult1                                                      456\n",
       "ind_deme_fin_ult1                                                      199\n",
       "ind_dela_fin_ult1                                                     4647\n",
       "ind_ecue_fin_ult1                                                     9612\n",
       "ind_fond_fin_ult1                                                     1966\n",
       "ind_hip_fin_ult1                                                       708\n",
       "ind_plan_fin_ult1                                                     1032\n",
       "ind_pres_fin_ult1                                                      103\n",
       "ind_reca_fin_ult1                                                     6367\n",
       "ind_tjcr_fin_ult1                                                     7571\n",
       "ind_valo_fin_ult1                                                     3019\n",
       "ind_viv_fin_ult1                                                       359\n",
       "ind_nomina_ult1                                                       8517\n",
       "ind_nom_pens_ult1                                                     8713\n",
       "ind_recibo_ult1                                                      18969\n",
       "dtype: object"
      ]
     },
     "execution_count": 55,
     "metadata": {},
     "output_type": "execute_result"
    }
   ],
   "source": [
    "train_set_june.sum()"
   ]
  },
  {
   "cell_type": "code",
   "execution_count": null,
   "metadata": {
    "collapsed": true
   },
   "outputs": [],
   "source": []
  }
 ],
 "metadata": {
  "anaconda-cloud": {},
  "kernelspec": {
   "display_name": "Python [conda env:mlp]",
   "language": "python",
   "name": "conda-env-mlp-py"
  },
  "language_info": {
   "codemirror_mode": {
    "name": "ipython",
    "version": 2
   },
   "file_extension": ".py",
   "mimetype": "text/x-python",
   "name": "python",
   "nbconvert_exporter": "python",
   "pygments_lexer": "ipython2",
   "version": "2.7.12"
  }
 },
 "nbformat": 4,
 "nbformat_minor": 1
}
