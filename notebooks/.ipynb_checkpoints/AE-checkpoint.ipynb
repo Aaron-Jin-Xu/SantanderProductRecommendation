{
 "cells": [
  {
   "cell_type": "code",
   "execution_count": null,
   "metadata": {
    "collapsed": true
   },
   "outputs": [],
   "source": [
    "%load_ext autoreload\n",
    "%autoreload 2\n",
    "import os\n",
    "os.chdir(\"/Users/Aaron-MAC/Development/Kaggle/Santander\")\n",
    "import pandas as pd\n",
    "import numpy as np\n",
    "from modules.pre_process import *\n",
    "from modules.get_data import *\n",
    "import matplotlib.pyplot as plt\n",
    "import cPickle as pickle\n",
    "import xgboost as xgb\n",
    "%matplotlib inline"
   ]
  },
  {
   "cell_type": "code",
   "execution_count": null,
   "metadata": {
    "collapsed": false
   },
   "outputs": [
    {
     "name": "stderr",
     "output_type": "stream",
     "text": [
      "/Users/Aaron-MAC/anaconda/envs/mlp/lib/python2.7/site-packages/IPython/core/interactiveshell.py:2717: DtypeWarning: Columns (5,8,11,15) have mixed types. Specify dtype option on import or set low_memory=False.\n",
      "  interactivity=interactivity, compiler=compiler, result=result)\n"
     ]
    }
   ],
   "source": [
    "cache = pd.read_csv(\"data/train_ver2.csv\").fillna(-2.)"
   ]
  },
  {
   "cell_type": "code",
   "execution_count": 20,
   "metadata": {
    "collapsed": true
   },
   "outputs": [],
   "source": []
  },
  {
   "cell_type": "code",
   "execution_count": null,
   "metadata": {
    "collapsed": false
   },
   "outputs": [],
   "source": [
    "\"\"\"\n",
    "from sklearn.preprocessing import MaxAbsScaler\n",
    "mas = MaxAbsScaler()\n",
    "X_train = mas.fit_transform(X_train)\n",
    "X_test = mas.transform(X_test)\n",
    "\"\"\""
   ]
  },
  {
   "cell_type": "code",
   "execution_count": null,
   "metadata": {
    "collapsed": false
   },
   "outputs": [],
   "source": [
    "X_train, y_train = feed_training_data(year=2015, month=5, cache=cache, mul_y=False)\n",
    "X_test = feed_test_data(year=2016, month=5, cache=cache)\n",
    "X_test_unred = X_test.copy()\n",
    "test_set = get_test_data(year=2016, month=5, cache=cache)"
   ]
  },
  {
   "cell_type": "code",
   "execution_count": null,
   "metadata": {
    "collapsed": false
   },
   "outputs": [],
   "source": [
    "from sklearn.preprocessing import OneHotEncoder\n",
    "\n",
    "enc = OneHotEncoder()\n",
    "enc = enc.fit(X_test+2)\n",
    "X_train = enc.transform(X_train+2)\n",
    "X_test = enc.transform(X_test+2)"
   ]
  },
  {
   "cell_type": "code",
   "execution_count": null,
   "metadata": {
    "collapsed": false
   },
   "outputs": [],
   "source": [
    "X_train = X_train.todense()\n",
    "X_test = X_test.todense()"
   ]
  },
  {
   "cell_type": "code",
   "execution_count": null,
   "metadata": {
    "collapsed": true
   },
   "outputs": [],
   "source": [
    "from sklearn.cluster import MiniBatchKMeans\n",
    "num_cluster = 20\n",
    "k_means = MiniBatchKMeans(n_clusters=num_cluster)\n",
    "k_means = k_means.fit(X_test)\n",
    "\n",
    "train_class = k_means.predict(X_train)\n",
    "test_class= k_means.predict(X_test)"
   ]
  },
  {
   "cell_type": "code",
   "execution_count": null,
   "metadata": {
    "collapsed": true
   },
   "outputs": [],
   "source": []
  },
  {
   "cell_type": "code",
   "execution_count": 12,
   "metadata": {
    "collapsed": false
   },
   "outputs": [],
   "source": [
    "arr = []\n",
    "for i in range(24):\n",
    "    sel = y_train==i\n",
    "    \n",
    "    if len(X_train[sel])>0:\n",
    "        arr.append(X_train[sel].mean(0))\n",
    "feature_sel = np.array(arr).std(0)\n",
    "\n",
    "X_train = X_train[:, feature_sel[0]>0.05]\n",
    "X_test = X_test[:, feature_sel[0]>0.05]"
   ]
  },
  {
   "cell_type": "code",
   "execution_count": 106,
   "metadata": {
    "collapsed": false
   },
   "outputs": [],
   "source": [
    "def runXGB(train_X, train_y, seed_val=0):\n",
    "    param = {}\n",
    "    param['objective'] = 'multi:softprob'\n",
    "    param['eta'] = 0.05\n",
    "    param['max_depth'] = 3\n",
    "    param['silent'] = 0\n",
    "    param['num_class'] = 24\n",
    "    param['eval_metric'] = \"mlogloss\"\n",
    "    param['min_child_weight'] = 1\n",
    "    param['subsample'] = 0.7\n",
    "    param['colsample_bytree'] = 0.7\n",
    "    param['seed'] = seed_val\n",
    "    num_rounds = 100\n",
    "\n",
    "    plst = list(param.items())\n",
    "    xgtrain = xgb.DMatrix(train_X, label=train_y)\n",
    "    model = xgb.train(plst, xgtrain, num_rounds)\t\n",
    "    return model"
   ]
  },
  {
   "cell_type": "code",
   "execution_count": 23,
   "metadata": {
    "collapsed": false
   },
   "outputs": [
    {
     "name": "stdout",
     "output_type": "stream",
     "text": [
      "      Iter       Train Loss   Remaining Time \n",
      "         1       72856.8323            2.95m\n",
      "         2       66112.1839            2.90m\n",
      "         3       61368.5337            2.92m\n",
      "         4       57882.1827            2.88m\n",
      "         5       55151.3934            2.93m\n",
      "         6       52945.9490            2.96m\n",
      "         7       51139.8410            2.86m\n",
      "         8       49645.0368            2.82m\n",
      "         9       48368.9228            2.78m\n",
      "        10       47297.6252            2.75m\n",
      "        20       41670.0845            2.22m\n",
      "        30       39534.3045            1.63m\n",
      "        40       38429.2436            1.08m\n",
      "        50       39751.8143           32.11s\n",
      "        60       39204.9440            0.00s\n"
     ]
    }
   ],
   "source": [
    "from sklearn.ensemble import GradientBoostingClassifier\n",
    "\n",
    "model = GradientBoostingClassifier(verbose=True, n_estimators=60)\n",
    "model = model.fit(X_train_comb, y_train)\n",
    "predict = model.predict_proba(X_test_comb)\n",
    "predict = np.hstack([np.zeros((len(predict),2)), predict])"
   ]
  },
  {
   "cell_type": "code",
   "execution_count": 24,
   "metadata": {
    "collapsed": false
   },
   "outputs": [],
   "source": [
    "mask = X_test_unred[:, :24]==0\n",
    "predict = predict*mask"
   ]
  },
  {
   "cell_type": "code",
   "execution_count": 25,
   "metadata": {
    "collapsed": false
   },
   "outputs": [
    {
     "name": "stdout",
     "output_type": "stream",
     "text": [
      "[ 0  1  3 10 14 15 16 20]\n",
      "931453\n"
     ]
    }
   ],
   "source": [
    "f = open(\"outputs/test_4.csv\", 'w')\n",
    "f.write(\"ncodpers,added_products\\n\")\n",
    "\n",
    "user_id = test_set['ncodpers']\n",
    "\n",
    "count = np.bincount(y_train)\n",
    "ban_list = np.argwhere(count<count.max()*0.005)[:,0]\n",
    "\n",
    "print ban_list\n",
    "print len(predict)\n",
    "\n",
    "for idx,r in enumerate(predict):\n",
    "    order = [i[0] for i in sorted(enumerate(r), key=lambda x:x[1], reverse=True)]\n",
    "    order = [x for x in order if x not in ban_list]\n",
    "    select = order[:min(7,len(order))]\n",
    "      \n",
    "    f.write(str(user_id[idx])+\",\"+(\" \".join([products[s] for s in select]))+'\\n')\n",
    "f.close()"
   ]
  },
  {
   "cell_type": "code",
   "execution_count": 26,
   "metadata": {
    "collapsed": false
   },
   "outputs": [
    {
     "data": {
      "text/plain": [
       "0.06462052827212064"
      ]
     },
     "execution_count": 26,
     "metadata": {},
     "output_type": "execute_result"
    }
   ],
   "source": [
    "from modules.evaluation import *\n",
    "eval_submission('test_4.csv', year=2016, month=5, cache=cache)"
   ]
  },
  {
   "cell_type": "code",
   "execution_count": 121,
   "metadata": {
    "collapsed": false
   },
   "outputs": [
    {
     "data": {
      "text/plain": [
       "(30445, 74)"
      ]
     },
     "execution_count": 121,
     "metadata": {},
     "output_type": "execute_result"
    }
   ],
   "source": []
  },
  {
   "cell_type": "code",
   "execution_count": null,
   "metadata": {
    "collapsed": false
   },
   "outputs": [],
   "source": []
  },
  {
   "cell_type": "code",
   "execution_count": 9,
   "metadata": {
    "collapsed": false,
    "scrolled": true
   },
   "outputs": [
    {
     "name": "stdout",
     "output_type": "stream",
     "text": [
      "[BernoulliRBM] Iteration 1, pseudo-likelihood = -26.12, time = 17.46s\n",
      "[BernoulliRBM] Iteration 2, pseudo-likelihood = -25.21, time = 21.24s\n",
      "[BernoulliRBM] Iteration 3, pseudo-likelihood = -24.33, time = 21.38s\n",
      "[BernoulliRBM] Iteration 4, pseudo-likelihood = -24.92, time = 21.23s\n",
      "[BernoulliRBM] Iteration 5, pseudo-likelihood = -23.81, time = 21.43s\n",
      "[BernoulliRBM] Iteration 6, pseudo-likelihood = -24.10, time = 21.66s\n",
      "[BernoulliRBM] Iteration 7, pseudo-likelihood = -22.10, time = 20.98s\n",
      "[BernoulliRBM] Iteration 8, pseudo-likelihood = -22.72, time = 20.94s\n",
      "[BernoulliRBM] Iteration 9, pseudo-likelihood = -21.52, time = 20.92s\n",
      "[BernoulliRBM] Iteration 10, pseudo-likelihood = -22.16, time = 20.85s\n"
     ]
    }
   ],
   "source": [
    "from sklearn.neural_network import BernoulliRBM\n",
    "\n",
    "rbm1 = BernoulliRBM(n_components=20, verbose=True, learning_rate=1e-2, n_iter=10)\n",
    "rbm1 = rbm1.fit(X_test)"
   ]
  },
  {
   "cell_type": "code",
   "execution_count": 10,
   "metadata": {
    "collapsed": false
   },
   "outputs": [],
   "source": [
    "X_train_rbm = rbm.transform(X_train)\n",
    "X_test_rbm = rbm.transform(X_test)"
   ]
  },
  {
   "cell_type": "code",
   "execution_count": 14,
   "metadata": {
    "collapsed": false
   },
   "outputs": [],
   "source": [
    "X_train_comb = np.hstack([X_train_rbm, X_train])\n",
    "X_test_comb = np.hstack([X_test_rbm, X_test])"
   ]
  },
  {
   "cell_type": "code",
   "execution_count": 142,
   "metadata": {
    "collapsed": false
   },
   "outputs": [],
   "source": [
    "X_train_rbm = rbm.transform(X_train)\n",
    "X_test_rbm = rbm.transform(X_test)"
   ]
  },
  {
   "cell_type": "code",
   "execution_count": 15,
   "metadata": {
    "collapsed": true
   },
   "outputs": [],
   "source": [
    "from sklearn.linear_model import LogisticRegression\n",
    "\n",
    "model = LogisticRegression(multi_class='multinomial', solver='lbfgs', penalty='l2', C=1.)\n",
    "model = model.fit(X_train_comb, y_train)\n",
    "predict = model.predict_proba(X_test_comb)\n",
    "predict = np.hstack([np.zeros((len(predict), 2)), predict])"
   ]
  },
  {
   "cell_type": "code",
   "execution_count": 7,
   "metadata": {
    "collapsed": false
   },
   "outputs": [
    {
     "name": "stdout",
     "output_type": "stream",
     "text": [
      "[LibSVM]"
     ]
    },
    {
     "data": {
      "text/plain": [
       "SVC(C=1.0, cache_size=200, class_weight=None, coef0=0.0,\n",
       "  decision_function_shape=None, degree=3, gamma='auto', kernel='rbf',\n",
       "  max_iter=-1, probability=False, random_state=None, shrinking=True,\n",
       "  tol=0.001, verbose=True)"
      ]
     },
     "execution_count": 7,
     "metadata": {},
     "output_type": "execute_result"
    }
   ],
   "source": [
    "from sklearn import svm\n",
    "\n",
    "clf = svm.SVC(verbose=True)\n",
    "clf.fit(X_train, y_train)"
   ]
  },
  {
   "cell_type": "code",
   "execution_count": null,
   "metadata": {
    "collapsed": false
   },
   "outputs": [],
   "source": [
    "predict = clf.decision_function(X_test)"
   ]
  },
  {
   "cell_type": "code",
   "execution_count": null,
   "metadata": {
    "collapsed": true
   },
   "outputs": [],
   "source": [
    "print predict"
   ]
  },
  {
   "cell_type": "code",
   "execution_count": null,
   "metadata": {
    "collapsed": true
   },
   "outputs": [],
   "source": []
  }
 ],
 "metadata": {
  "anaconda-cloud": {},
  "kernelspec": {
   "display_name": "Python [default]",
   "language": "python",
   "name": "python2"
  },
  "language_info": {
   "codemirror_mode": {
    "name": "ipython",
    "version": 2
   },
   "file_extension": ".py",
   "mimetype": "text/x-python",
   "name": "python",
   "nbconvert_exporter": "python",
   "pygments_lexer": "ipython2",
   "version": "2.7.12"
  }
 },
 "nbformat": 4,
 "nbformat_minor": 1
}
