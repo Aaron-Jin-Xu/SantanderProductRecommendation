{
 "cells": [
  {
   "cell_type": "code",
   "execution_count": 1,
   "metadata": {
    "collapsed": true
   },
   "outputs": [],
   "source": [
    "%load_ext autoreload\n",
    "%autoreload 2\n",
    "import os\n",
    "os.chdir(\"/Users/Aaron-MAC/Development/Kaggle/Santander\")\n",
    "import pandas as pd\n",
    "import numpy as np\n",
    "from modules.pre_process import *\n",
    "from modules.get_data import *\n",
    "import matplotlib.pyplot as plt\n",
    "import cPickle as pickle\n",
    "import xgboost as xgb\n",
    "%matplotlib inline"
   ]
  },
  {
   "cell_type": "code",
   "execution_count": 2,
   "metadata": {
    "collapsed": false
   },
   "outputs": [
    {
     "name": "stderr",
     "output_type": "stream",
     "text": [
      "/Users/Aaron-MAC/anaconda/envs/mlp/lib/python2.7/site-packages/IPython/core/interactiveshell.py:2717: DtypeWarning: Columns (5,8,11,15) have mixed types. Specify dtype option on import or set low_memory=False.\n",
      "  interactivity=interactivity, compiler=compiler, result=result)\n"
     ]
    }
   ],
   "source": [
    "cache = pd.read_csv(\"data/train_ver2.csv\").fillna(-2.)"
   ]
  },
  {
   "cell_type": "code",
   "execution_count": 33,
   "metadata": {
    "collapsed": true
   },
   "outputs": [],
   "source": []
  },
  {
   "cell_type": "code",
   "execution_count": 172,
   "metadata": {
    "collapsed": false
   },
   "outputs": [],
   "source": [
    "X_train, y_train = feed_training_data(year=2015, month=5, cache=cache, mul_y=False)\n",
    "X_test = feed_test_data(year=2016, month=5, cache=cache)\n",
    "X_test_unred = X_test.copy()\n",
    "test_set = get_test_data(year=2016, month=5, cache=cache)\n",
    "\n",
    "from sklearn.preprocessing import MaxAbsScaler\n",
    "mas = MaxAbsScaler()\n",
    "X_train = mas.fit_transform(X_train)\n",
    "X_test = mas.transform(X_test)"
   ]
  },
  {
   "cell_type": "code",
   "execution_count": 147,
   "metadata": {
    "collapsed": false
   },
   "outputs": [],
   "source": []
  },
  {
   "cell_type": "code",
   "execution_count": 173,
   "metadata": {
    "collapsed": true
   },
   "outputs": [],
   "source": [
    "arr = []\n",
    "for i in range(24):\n",
    "    sel = y_train==i\n",
    "    \n",
    "    if len(X_train[sel])>0:\n",
    "        arr.append(X_train[sel].mean(0))\n",
    "feature_sel = np.array(arr).std(0)\n",
    "\n",
    "X_train = X_train[:, feature_sel>0.01]\n",
    "X_test = X_test[:, feature_sel>0.01]"
   ]
  },
  {
   "cell_type": "code",
   "execution_count": 174,
   "metadata": {
    "collapsed": false
   },
   "outputs": [
    {
     "data": {
      "text/plain": [
       "(30445, 34)"
      ]
     },
     "execution_count": 174,
     "metadata": {},
     "output_type": "execute_result"
    }
   ],
   "source": [
    "X_train.shape"
   ]
  },
  {
   "cell_type": "code",
   "execution_count": 175,
   "metadata": {
    "collapsed": true
   },
   "outputs": [],
   "source": [
    "X_train_non_filter = get_feature(get_training_data(year=2016, month=5, cache=cache)).iloc[:, 1:].values\n",
    "X_train_non_filter = mas.transform(X_train_non_filter)"
   ]
  },
  {
   "cell_type": "code",
   "execution_count": 176,
   "metadata": {
    "collapsed": false
   },
   "outputs": [],
   "source": [
    "X_train_non_filter = X_train_non_filter[:, feature_sel>0.01]"
   ]
  },
  {
   "cell_type": "code",
   "execution_count": 177,
   "metadata": {
    "collapsed": false
   },
   "outputs": [
    {
     "name": "stdout",
     "output_type": "stream",
     "text": [
      "(30445, 34)\n",
      "(931453, 34)\n",
      "(931453, 34)\n"
     ]
    }
   ],
   "source": [
    "print X_train.shape\n",
    "print X_test.shape\n",
    "print X_train_non_filter.shape"
   ]
  },
  {
   "cell_type": "code",
   "execution_count": 181,
   "metadata": {
    "collapsed": false
   },
   "outputs": [
    {
     "name": "stdout",
     "output_type": "stream",
     "text": [
      "Init 1/3 with method: k-means++\n",
      "Inertia for init 1/3: 216.444692\n",
      "Init 2/3 with method: k-means++\n",
      "Inertia for init 2/3: 211.581433\n",
      "Init 3/3 with method: k-means++\n",
      "Inertia for init 3/3: 221.224419\n",
      "Minibatch iteration 1/931500: mean batch inertia: 0.845941, ewa inertia: 0.845941 \n",
      "Minibatch iteration 2/931500: mean batch inertia: 0.836058, ewa inertia: 0.845939 \n",
      "Minibatch iteration 3/931500: mean batch inertia: 1.056272, ewa inertia: 0.845984 \n",
      "Minibatch iteration 4/931500: mean batch inertia: 0.739077, ewa inertia: 0.845961 \n",
      "Minibatch iteration 5/931500: mean batch inertia: 0.666760, ewa inertia: 0.845922 \n",
      "Minibatch iteration 6/931500: mean batch inertia: 0.921281, ewa inertia: 0.845938 \n",
      "Minibatch iteration 7/931500: mean batch inertia: 0.867645, ewa inertia: 0.845943 \n",
      "Minibatch iteration 8/931500: mean batch inertia: 0.847898, ewa inertia: 0.845944 \n",
      "Minibatch iteration 9/931500: mean batch inertia: 0.939095, ewa inertia: 0.845964 \n",
      "Minibatch iteration 10/931500: mean batch inertia: 1.005786, ewa inertia: 0.845998 \n",
      "[MiniBatchKMeans] Reassigning 1 cluster centers.\n",
      "Minibatch iteration 11/931500: mean batch inertia: 0.718789, ewa inertia: 0.845971 \n",
      "Minibatch iteration 12/931500: mean batch inertia: 0.817769, ewa inertia: 0.845965 \n",
      "Minibatch iteration 13/931500: mean batch inertia: 0.875963, ewa inertia: 0.845971 \n",
      "Minibatch iteration 14/931500: mean batch inertia: 0.804016, ewa inertia: 0.845962 \n",
      "Minibatch iteration 15/931500: mean batch inertia: 0.915925, ewa inertia: 0.845977 \n",
      "Converged (lack of improvement in inertia) at iteration 15/931500\n",
      "Computing label assignment and total inertia\n"
     ]
    }
   ],
   "source": [
    "from sklearn.cluster import MiniBatchKMeans\n",
    "num_cluster = 20\n",
    "k_means = MiniBatchKMeans(n_clusters=num_cluster, verbose=True)\n",
    "k_means = k_means.fit(X_train_non_filter)"
   ]
  },
  {
   "cell_type": "code",
   "execution_count": 182,
   "metadata": {
    "collapsed": false
   },
   "outputs": [
    {
     "name": "stdout",
     "output_type": "stream",
     "text": [
      "Computing label assignment and total inertia\n",
      "Computing label assignment and total inertia\n"
     ]
    }
   ],
   "source": [
    "train_class = k_means.predict(X_train)\n",
    "test_class= k_means.predict(X_test)"
   ]
  },
  {
   "cell_type": "code",
   "execution_count": 231,
   "metadata": {
    "collapsed": false
   },
   "outputs": [],
   "source": [
    "arr = []\n",
    "for i in range(num_cluster):\n",
    "    freq = np.bincount(y_train[train_class==i], minlength=24)\n",
    "    freq = np.array([float(x) for x in freq])\n",
    "    freq /= freq.sum()\n",
    "    freq[freq<0.001] = 0.\n",
    "    freq[freq>0.5] = 1.\n",
    "    freq[(freq<2.) & (freq>0.)] = 1.\n",
    "    arr.append(freq)\n",
    "    \n",
    "predict_kmeans = []\n",
    "for i in test_class:\n",
    "    predict_kmeans.append(arr[i])\n",
    "predict_kmeans = np.array(predict_kmeans)"
   ]
  },
  {
   "cell_type": "code",
   "execution_count": 184,
   "metadata": {
    "collapsed": false
   },
   "outputs": [
    {
     "data": {
      "image/png": "[encoded data removed]",
      "text/plain": [
       "<matplotlib.figure.Figure at 0x11af41b90>"
      ]
     },
     "metadata": {},
     "output_type": "display_data"
    }
   ],
   "source": [
    "fig = plt.figure(figsize=(16,10))\n",
    "\n",
    "for i in range(10):\n",
    "    x = y_train[train_class==i]\n",
    "    #x = np.random.randint(0,24,size=x.shape)\n",
    "    ax = fig.add_subplot(4,3,i+1)\n",
    "    n, bins, patches = ax.hist(x, 24, normed=1, facecolor='green', alpha=0.75)"
   ]
  },
  {
   "cell_type": "code",
   "execution_count": 200,
   "metadata": {
    "collapsed": false
   },
   "outputs": [],
   "source": [
    "def runXGB(train_X, train_y, seed_val=0):\n",
    "    param = {}\n",
    "    param['objective'] = 'multi:softprob'\n",
    "    param['eta'] = 0.05\n",
    "    param['max_depth'] = 3\n",
    "    param['silent'] = 0\n",
    "    param['num_class'] = 24\n",
    "    param['eval_metric'] = \"mlogloss\"\n",
    "    param['min_child_weight'] = 1\n",
    "    param['subsample'] = 0.7\n",
    "    param['colsample_bytree'] = 0.7\n",
    "    param['seed'] = seed_val\n",
    "    num_rounds = 100\n",
    "\n",
    "    plst = list(param.items())\n",
    "    xgtrain = xgb.DMatrix(train_X, label=train_y)\n",
    "    model = xgb.train(plst, xgtrain, num_rounds)\t\n",
    "    return model"
   ]
  },
  {
   "cell_type": "code",
   "execution_count": 54,
   "metadata": {
    "collapsed": true
   },
   "outputs": [],
   "source": [
    "models = []\n",
    "\n",
    "for i in range(num_cluster):\n",
    "    sel = train_class==i\n",
    "    model = runXGB(X_train[sel], y_train[sel])\n",
    "    models.append(model)"
   ]
  },
  {
   "cell_type": "code",
   "execution_count": 55,
   "metadata": {
    "collapsed": false
   },
   "outputs": [
    {
     "name": "stdout",
     "output_type": "stream",
     "text": [
      "(929615, 24)\n",
      "(929615, 24)\n",
      "(929615, 24)\n",
      "(929615, 24)\n",
      "(929615, 24)\n",
      "(929615, 24)\n",
      "(929615, 24)\n",
      "(929615, 24)\n",
      "(929615, 24)\n",
      "(929615, 24)\n"
     ]
    }
   ],
   "source": [
    "predict = np.zeros((X_test.shape[0], 24))\n",
    "for i in range(num_cluster):\n",
    "    model = models[i]\n",
    "    predict1 = model.predict(xgb.DMatrix(X_test))*((test_class==i)[:,None])\n",
    "    print predict1.shape\n",
    "    predict += predict1"
   ]
  },
  {
   "cell_type": "code",
   "execution_count": 234,
   "metadata": {
    "collapsed": false
   },
   "outputs": [],
   "source": [
    "predict *= predict_kmeans"
   ]
  },
  {
   "cell_type": "code",
   "execution_count": 203,
   "metadata": {
    "collapsed": false
   },
   "outputs": [
    {
     "name": "stdout",
     "output_type": "stream",
     "text": [
      "      Iter       Train Loss   Remaining Time \n",
      "         1       72667.7615            1.44m\n",
      "         2       65614.8459            1.36m\n",
      "         3       60744.8544            1.35m\n",
      "         4       57128.2899            1.33m\n",
      "         5       54304.6298            1.34m\n",
      "         6       52061.6114            1.35m\n",
      "         7       50195.9573            1.33m\n",
      "         8       48641.6424            1.30m\n",
      "         9       47304.3776            1.29m\n",
      "        10       46197.5917            1.27m\n",
      "        20       40384.5480            1.10m\n",
      "        30       38275.3046           59.45s\n",
      "        40       37233.3295           52.50s\n",
      "        50       36563.6362           42.96s\n",
      "        60       36108.7735           33.94s\n",
      "        70       35733.4760           25.21s\n",
      "        80       35396.0541           16.63s\n",
      "        90       35113.1272            8.25s\n",
      "       100       34856.2954            0.00s\n"
     ]
    }
   ],
   "source": [
    "from sklearn.ensemble import GradientBoostingClassifier\n",
    "\n",
    "model = GradientBoostingClassifier(verbose=True, n_estimators=100)\n",
    "model = model.fit(X_train, y_train)\n",
    "predict = model.predict_proba(X_test)"
   ]
  },
  {
   "cell_type": "code",
   "execution_count": 232,
   "metadata": {
    "collapsed": false
   },
   "outputs": [],
   "source": [
    "from sklearn.linear_model import LogisticRegression\n",
    "\n",
    "model = LogisticRegression(multi_class='multinomial', solver='lbfgs', penalty='l2', C=1.)\n",
    "model = model.fit(X_train, y_train)\n",
    "predict = model.predict_proba(X_test)\n",
    "predict = np.hstack([np.zeros((len(predict), 2)), predict])"
   ]
  },
  {
   "cell_type": "code",
   "execution_count": 233,
   "metadata": {
    "collapsed": false
   },
   "outputs": [],
   "source": [
    "predict = np.hstack([np.zeros((len(predict), 2)), predict])"
   ]
  },
  {
   "cell_type": "code",
   "execution_count": 30,
   "metadata": {
    "collapsed": false
   },
   "outputs": [],
   "source": []
  },
  {
   "cell_type": "code",
   "execution_count": 42,
   "metadata": {
    "collapsed": false
   },
   "outputs": [
    {
     "data": {
      "text/plain": [
       "array([ 1.00000005,  1.00000003,  1.00000001, ...,  1.00000001,\n",
       "        1.        ,  0.99999995])"
      ]
     },
     "execution_count": 42,
     "metadata": {},
     "output_type": "execute_result"
    }
   ],
   "source": [
    "predict.sum(1)"
   ]
  },
  {
   "cell_type": "code",
   "execution_count": 235,
   "metadata": {
    "collapsed": false
   },
   "outputs": [],
   "source": [
    "mask = X_test_unred[:, :24]==0\n",
    "predict = predict*mask"
   ]
  },
  {
   "cell_type": "code",
   "execution_count": 57,
   "metadata": {
    "collapsed": false
   },
   "outputs": [
    {
     "name": "stdout",
     "output_type": "stream",
     "text": [
      "[ 0  1  3 10 14 15 16 20]\n",
      "929615\n"
     ]
    }
   ],
   "source": [
    "f = open(\"outputs/data_chunk_sub.csv\", 'w')\n",
    "f.write(\"ncodpers,added_products\\n\")\n",
    "\n",
    "user_id = test_set['ncodpers']\n",
    "\n",
    "count = np.bincount(y_train)\n",
    "ban_list = np.argwhere(count<count.max()*0.005)[:,0]\n",
    "\n",
    "print ban_list\n",
    "print len(predict)\n",
    "\n",
    "for idx,r in enumerate(predict):\n",
    "    order = [i[0] for i in sorted(enumerate(r), key=lambda x:x[1], reverse=True)]\n",
    "    order = [x for x in order if x not in ban_list]\n",
    "    select = order[:min(7,len(order))]\n",
    "    f.write(str(user_id[idx])+\",\"+(\" \".join([products[s] for s in select]))+'\\n')\n",
    "f.close()"
   ]
  },
  {
   "cell_type": "code",
   "execution_count": 45,
   "metadata": {
    "collapsed": false
   },
   "outputs": [
    {
     "data": {
      "text/plain": [
       "0.06505103785708535"
      ]
     },
     "execution_count": 45,
     "metadata": {},
     "output_type": "execute_result"
    }
   ],
   "source": [
    "from modules.evaluation import *\n",
    "eval_submission('test_3.csv', year=2016, month=5, cache=cache)"
   ]
  },
  {
   "cell_type": "code",
   "execution_count": null,
   "metadata": {
    "collapsed": true
   },
   "outputs": [],
   "source": []
  },
  {
   "cell_type": "code",
   "execution_count": 168,
   "metadata": {
    "collapsed": false
   },
   "outputs": [],
   "source": [
    "predict = []\n",
    "for i in range(num_cluster):\n",
    "    sel = train_class==i\n",
    "    freq = np.bincount(y_train[sel], minlength=24)+1\n",
    "    freq = freq / float(sum(freq))\n",
    "    predict.append(freq)\n",
    "\n",
    "arr = []\n",
    "for i in test_class:\n",
    "    arr.append(predict[i])\n",
    "predict = np.array(arr)"
   ]
  },
  {
   "cell_type": "code",
   "execution_count": 164,
   "metadata": {
    "collapsed": false
   },
   "outputs": [],
   "source": [
    "predict_kmeans = predict.copy()"
   ]
  },
  {
   "cell_type": "code",
   "execution_count": 201,
   "metadata": {
    "collapsed": false
   },
   "outputs": [
    {
     "ename": "KeyboardInterrupt",
     "evalue": "",
     "output_type": "error",
     "traceback": [
      "\u001b[0;31m---------------------------------------------------------------------------\u001b[0m",
      "\u001b[0;31mKeyboardInterrupt\u001b[0m                         Traceback (most recent call last)",
      "\u001b[0;32m<ipython-input-201-9a14121a8633>\u001b[0m in \u001b[0;36m<module>\u001b[0;34m()\u001b[0m\n\u001b[0;32m----> 1\u001b[0;31m \u001b[0mmodel\u001b[0m \u001b[0;34m=\u001b[0m \u001b[0mrunXGB\u001b[0m\u001b[0;34m(\u001b[0m\u001b[0mX_train\u001b[0m\u001b[0;34m,\u001b[0m \u001b[0my_train\u001b[0m\u001b[0;34m)\u001b[0m\u001b[0;34m\u001b[0m\u001b[0m\n\u001b[0m\u001b[1;32m      2\u001b[0m \u001b[0mxgtest\u001b[0m \u001b[0;34m=\u001b[0m \u001b[0mxgb\u001b[0m\u001b[0;34m.\u001b[0m\u001b[0mDMatrix\u001b[0m\u001b[0;34m(\u001b[0m\u001b[0mX_test\u001b[0m\u001b[0;34m)\u001b[0m\u001b[0;34m\u001b[0m\u001b[0m\n\u001b[1;32m      3\u001b[0m \u001b[0mpredict\u001b[0m \u001b[0;34m=\u001b[0m \u001b[0mmodel\u001b[0m\u001b[0;34m.\u001b[0m\u001b[0mpredict\u001b[0m\u001b[0;34m(\u001b[0m\u001b[0mxgtest\u001b[0m\u001b[0;34m)\u001b[0m\u001b[0;34m\u001b[0m\u001b[0m\n",
      "\u001b[0;32m<ipython-input-200-9e2c73b86679>\u001b[0m in \u001b[0;36mrunXGB\u001b[0;34m(train_X, train_y, seed_val)\u001b[0m\n\u001b[1;32m     15\u001b[0m     \u001b[0mplst\u001b[0m \u001b[0;34m=\u001b[0m \u001b[0mlist\u001b[0m\u001b[0;34m(\u001b[0m\u001b[0mparam\u001b[0m\u001b[0;34m.\u001b[0m\u001b[0mitems\u001b[0m\u001b[0;34m(\u001b[0m\u001b[0;34m)\u001b[0m\u001b[0;34m)\u001b[0m\u001b[0;34m\u001b[0m\u001b[0m\n\u001b[1;32m     16\u001b[0m     \u001b[0mxgtrain\u001b[0m \u001b[0;34m=\u001b[0m \u001b[0mxgb\u001b[0m\u001b[0;34m.\u001b[0m\u001b[0mDMatrix\u001b[0m\u001b[0;34m(\u001b[0m\u001b[0mtrain_X\u001b[0m\u001b[0;34m,\u001b[0m \u001b[0mlabel\u001b[0m\u001b[0;34m=\u001b[0m\u001b[0mtrain_y\u001b[0m\u001b[0;34m)\u001b[0m\u001b[0;34m\u001b[0m\u001b[0m\n\u001b[0;32m---> 17\u001b[0;31m     \u001b[0mmodel\u001b[0m \u001b[0;34m=\u001b[0m \u001b[0mxgb\u001b[0m\u001b[0;34m.\u001b[0m\u001b[0mtrain\u001b[0m\u001b[0;34m(\u001b[0m\u001b[0mplst\u001b[0m\u001b[0;34m,\u001b[0m \u001b[0mxgtrain\u001b[0m\u001b[0;34m,\u001b[0m \u001b[0mnum_rounds\u001b[0m\u001b[0;34m)\u001b[0m\u001b[0;34m\u001b[0m\u001b[0m\n\u001b[0m\u001b[1;32m     18\u001b[0m     \u001b[0;32mreturn\u001b[0m \u001b[0mmodel\u001b[0m\u001b[0;34m\u001b[0m\u001b[0m\n",
      "\u001b[0;32m/Users/Aaron-MAC/anaconda/envs/mlp/lib/python2.7/site-packages/xgboost-0.6-py2.7.egg/xgboost/training.pyc\u001b[0m in \u001b[0;36mtrain\u001b[0;34m(params, dtrain, num_boost_round, evals, obj, feval, maximize, early_stopping_rounds, evals_result, verbose_eval, xgb_model, callbacks, learning_rates)\u001b[0m\n\u001b[1;32m    202\u001b[0m                            \u001b[0mevals\u001b[0m\u001b[0;34m=\u001b[0m\u001b[0mevals\u001b[0m\u001b[0;34m,\u001b[0m\u001b[0;34m\u001b[0m\u001b[0m\n\u001b[1;32m    203\u001b[0m                            \u001b[0mobj\u001b[0m\u001b[0;34m=\u001b[0m\u001b[0mobj\u001b[0m\u001b[0;34m,\u001b[0m \u001b[0mfeval\u001b[0m\u001b[0;34m=\u001b[0m\u001b[0mfeval\u001b[0m\u001b[0;34m,\u001b[0m\u001b[0;34m\u001b[0m\u001b[0m\n\u001b[0;32m--> 204\u001b[0;31m                            xgb_model=xgb_model, callbacks=callbacks)\n\u001b[0m\u001b[1;32m    205\u001b[0m \u001b[0;34m\u001b[0m\u001b[0m\n\u001b[1;32m    206\u001b[0m \u001b[0;34m\u001b[0m\u001b[0m\n",
      "\u001b[0;32m/Users/Aaron-MAC/anaconda/envs/mlp/lib/python2.7/site-packages/xgboost-0.6-py2.7.egg/xgboost/training.pyc\u001b[0m in \u001b[0;36m_train_internal\u001b[0;34m(params, dtrain, num_boost_round, evals, obj, feval, xgb_model, callbacks)\u001b[0m\n\u001b[1;32m     72\u001b[0m         \u001b[0;31m# Skip the first update if it is a recovery step.\u001b[0m\u001b[0;34m\u001b[0m\u001b[0;34m\u001b[0m\u001b[0m\n\u001b[1;32m     73\u001b[0m         \u001b[0;32mif\u001b[0m \u001b[0mversion\u001b[0m \u001b[0;34m%\u001b[0m \u001b[0;36m2\u001b[0m \u001b[0;34m==\u001b[0m \u001b[0;36m0\u001b[0m\u001b[0;34m:\u001b[0m\u001b[0;34m\u001b[0m\u001b[0m\n\u001b[0;32m---> 74\u001b[0;31m             \u001b[0mbst\u001b[0m\u001b[0;34m.\u001b[0m\u001b[0mupdate\u001b[0m\u001b[0;34m(\u001b[0m\u001b[0mdtrain\u001b[0m\u001b[0;34m,\u001b[0m \u001b[0mi\u001b[0m\u001b[0;34m,\u001b[0m \u001b[0mobj\u001b[0m\u001b[0;34m)\u001b[0m\u001b[0;34m\u001b[0m\u001b[0m\n\u001b[0m\u001b[1;32m     75\u001b[0m             \u001b[0mbst\u001b[0m\u001b[0;34m.\u001b[0m\u001b[0msave_rabit_checkpoint\u001b[0m\u001b[0;34m(\u001b[0m\u001b[0;34m)\u001b[0m\u001b[0;34m\u001b[0m\u001b[0m\n\u001b[1;32m     76\u001b[0m             \u001b[0mversion\u001b[0m \u001b[0;34m+=\u001b[0m \u001b[0;36m1\u001b[0m\u001b[0;34m\u001b[0m\u001b[0m\n",
      "\u001b[0;32m/Users/Aaron-MAC/anaconda/envs/mlp/lib/python2.7/site-packages/xgboost-0.6-py2.7.egg/xgboost/core.pyc\u001b[0m in \u001b[0;36mupdate\u001b[0;34m(self, dtrain, iteration, fobj)\u001b[0m\n\u001b[1;32m    817\u001b[0m \u001b[0;34m\u001b[0m\u001b[0m\n\u001b[1;32m    818\u001b[0m         \u001b[0;32mif\u001b[0m \u001b[0mfobj\u001b[0m \u001b[0;32mis\u001b[0m \u001b[0mNone\u001b[0m\u001b[0;34m:\u001b[0m\u001b[0;34m\u001b[0m\u001b[0m\n\u001b[0;32m--> 819\u001b[0;31m             \u001b[0m_check_call\u001b[0m\u001b[0;34m(\u001b[0m\u001b[0m_LIB\u001b[0m\u001b[0;34m.\u001b[0m\u001b[0mXGBoosterUpdateOneIter\u001b[0m\u001b[0;34m(\u001b[0m\u001b[0mself\u001b[0m\u001b[0;34m.\u001b[0m\u001b[0mhandle\u001b[0m\u001b[0;34m,\u001b[0m \u001b[0miteration\u001b[0m\u001b[0;34m,\u001b[0m \u001b[0mdtrain\u001b[0m\u001b[0;34m.\u001b[0m\u001b[0mhandle\u001b[0m\u001b[0;34m)\u001b[0m\u001b[0;34m)\u001b[0m\u001b[0;34m\u001b[0m\u001b[0m\n\u001b[0m\u001b[1;32m    820\u001b[0m         \u001b[0;32melse\u001b[0m\u001b[0;34m:\u001b[0m\u001b[0;34m\u001b[0m\u001b[0m\n\u001b[1;32m    821\u001b[0m             \u001b[0mpred\u001b[0m \u001b[0;34m=\u001b[0m \u001b[0mself\u001b[0m\u001b[0;34m.\u001b[0m\u001b[0mpredict\u001b[0m\u001b[0;34m(\u001b[0m\u001b[0mdtrain\u001b[0m\u001b[0;34m)\u001b[0m\u001b[0;34m\u001b[0m\u001b[0m\n",
      "\u001b[0;31mKeyboardInterrupt\u001b[0m: "
     ]
    }
   ],
   "source": [
    "model = runXGB(X_train, y_train)\n",
    "xgtest = xgb.DMatrix(X_test)\n",
    "predict = model.predict(xgtest)"
   ]
  },
  {
   "cell_type": "code",
   "execution_count": 206,
   "metadata": {
    "collapsed": false
   },
   "outputs": [],
   "source": [
    "predict = predict_kmeans*np.hstack([np.zeros((len(predict),2)), predict])"
   ]
  },
  {
   "cell_type": "code",
   "execution_count": 207,
   "metadata": {
    "collapsed": false
   },
   "outputs": [],
   "source": [
    "mask = X_test_unred[:, :24]==0\n",
    "predict = predict*mask"
   ]
  },
  {
   "cell_type": "code",
   "execution_count": 239,
   "metadata": {
    "collapsed": false
   },
   "outputs": [
    {
     "name": "stdout",
     "output_type": "stream",
     "text": [
      "[ 0  1  3 10 14 15 16 20]\n",
      "931453\n"
     ]
    }
   ],
   "source": [
    "f = open(\"outputs/test_4.csv\", 'w')\n",
    "f.write(\"ncodpers,added_products\\n\")\n",
    "\n",
    "user_id = test_set['ncodpers']\n",
    "\n",
    "count = np.bincount(y_train)\n",
    "ban_list = np.argwhere(count<count.max()*0.005)[:,0]\n",
    "\n",
    "print ban_list\n",
    "print len(predict)\n",
    "\n",
    "for idx,r in enumerate(predict):\n",
    "    order = [i[0] for i in sorted(enumerate(r), key=lambda x:x[1], reverse=True)]\n",
    "    order = [x for x in order if x not in ban_list]\n",
    "    select = order[:min(7,len(order))]\n",
    "    \n",
    "    if 21 in select and 22 not in select:\n",
    "        select.insert(select.index(21)+1, 22)\n",
    "        select = select[:7]\n",
    "    elif 22 in select and 21 not in select:\n",
    "        select.insert(select.index(22)+1, 21)\n",
    "        select = select[:7]\n",
    "      \n",
    "    f.write(str(user_id[idx])+\",\"+(\" \".join([products[s] for s in select]))+'\\n')\n",
    "f.close()"
   ]
  },
  {
   "cell_type": "code",
   "execution_count": 240,
   "metadata": {
    "collapsed": false
   },
   "outputs": [
    {
     "data": {
      "text/plain": [
       "0.06565607324138331"
      ]
     },
     "execution_count": 240,
     "metadata": {},
     "output_type": "execute_result"
    }
   ],
   "source": [
    "from modules.evaluation import *\n",
    "eval_submission('test_4.csv', year=2016, month=5, cache=cache)"
   ]
  },
  {
   "cell_type": "code",
   "execution_count": null,
   "metadata": {
    "collapsed": true
   },
   "outputs": [],
   "source": []
  },
  {
   "cell_type": "code",
   "execution_count": null,
   "metadata": {
    "collapsed": true
   },
   "outputs": [],
   "source": []
  },
  {
   "cell_type": "code",
   "execution_count": 58,
   "metadata": {
    "collapsed": true
   },
   "outputs": [],
   "source": [
    "from modules.evaluation import get_eval_data\n",
    "\n",
    "target = get_eval_data(year=2016, month=5, cache=cache)"
   ]
  },
  {
   "cell_type": "code",
   "execution_count": 124,
   "metadata": {
    "collapsed": true
   },
   "outputs": [],
   "source": [
    "f = open(\"outputs/test_4.csv\", 'r')\n",
    "f.next()\n",
    "answer = {}\n",
    "for line in f:\n",
    "    line = line.strip()\n",
    "    code, product = line.split(\",\")\n",
    "    answer[int(code)] = product.split(\" \")"
   ]
  },
  {
   "cell_type": "code",
   "execution_count": 125,
   "metadata": {
    "collapsed": false
   },
   "outputs": [],
   "source": [
    "A = []\n",
    "for code in target:\n",
    "    arr = []\n",
    "    for item in target[code]:\n",
    "        try:\n",
    "            arr.append(answer[code].index(item))\n",
    "        except:\n",
    "            arr.append(-1)\n",
    "    A.append(arr)"
   ]
  },
  {
   "cell_type": "code",
   "execution_count": 2,
   "metadata": {
    "collapsed": false,
    "scrolled": true
   },
   "outputs": [
    {
     "data": {
      "text/plain": [
       "\"\\ncount = 0\\nfor key in target:\\n    if len(target[key])==1:\\n        continue\\n    if u'ind_nom_pens_ult1' in target[key]:\\n        continue\\n    print key, target[key]\\n    count += 1\\n    if count>100:\\n        break\\n\""
      ]
     },
     "execution_count": 2,
     "metadata": {},
     "output_type": "execute_result"
    }
   ],
   "source": [
    "\"\"\"\n",
    "count = 0\n",
    "for key in target:\n",
    "    if len(target[key])==1:\n",
    "        continue\n",
    "    if u'ind_nom_pens_ult1' in target[key]:\n",
    "        continue\n",
    "    print key, target[key]\n",
    "    count += 1\n",
    "    if count>100:\n",
    "        break\n",
    "\"\"\"\n"
   ]
  },
  {
   "cell_type": "code",
   "execution_count": 143,
   "metadata": {
    "collapsed": false
   },
   "outputs": [
    {
     "name": "stdout",
     "output_type": "stream",
     "text": [
      "ind_nomina_ult1 ind_nom_pens_ult1 0.973168963017\n",
      "ind_cno_fin_ult1 ind_nomina_ult1 0.434782608696\n",
      "ind_cno_fin_ult1 ind_nom_pens_ult1 0.459265512875\n",
      "ind_nom_pens_ult1 ind_nomina_ult1 0.968778198881\n"
     ]
    }
   ],
   "source": [
    "count = {}\n",
    "dic = {}\n",
    "for product in products:\n",
    "    count[product] = 0\n",
    "    dic[product] = {}\n",
    "    for k in products:\n",
    "        dic[product][k] = 0\n",
    "\n",
    "for code in target:\n",
    "    line  = target[code]\n",
    "    for t in line:\n",
    "        count[str(t)] += 1\n",
    "    for i in line:\n",
    "        for j in line:\n",
    "            dic[str(i)][str(j)] += 1\n",
    "\n",
    "for i in dic:\n",
    "    for j in dic:\n",
    "        if count[i]==0:\n",
    "            dic[i][j] = 0.\n",
    "        else:\n",
    "            dic[i][j] /= float(count[i])\n",
    "\n",
    "            \n",
    "            \n",
    "for i in dic:\n",
    "    for j in dic[j]:\n",
    "        if dic[i][j]>0.3 and i!=j:\n",
    "            print i, j, dic[i][j]\n",
    "\n",
    "    "
   ]
  },
  {
   "cell_type": "code",
   "execution_count": 1,
   "metadata": {
    "collapsed": false
   },
   "outputs": [
    {
     "data": {
      "text/plain": [
       "\"\\nfor code in answer:\\n    a = answer[code]\\n    if u'ind_nomina_ult1' in a and u'ind_nom_pens_ult1' not in a:\\n        print a\\n\""
      ]
     },
     "execution_count": 1,
     "metadata": {},
     "output_type": "execute_result"
    }
   ],
   "source": [
    "\"\"\"\n",
    "for code in answer:\n",
    "    a = answer[code]\n",
    "    if u'ind_nomina_ult1' in a and u'ind_nom_pens_ult1' not in a:\n",
    "        print a\n",
    "\"\"\"\n"
   ]
  },
  {
   "cell_type": "code",
   "execution_count": null,
   "metadata": {
    "collapsed": true
   },
   "outputs": [],
   "source": []
  },
  {
   "cell_type": "code",
   "execution_count": null,
   "metadata": {
    "collapsed": true
   },
   "outputs": [],
   "source": []
  },
  {
   "cell_type": "code",
   "execution_count": null,
   "metadata": {
    "collapsed": true
   },
   "outputs": [],
   "source": []
  }
 ],
 "metadata": {
  "anaconda-cloud": {},
  "kernelspec": {
   "display_name": "Python [conda env:mlp]",
   "language": "python",
   "name": "conda-env-mlp-py"
  },
  "language_info": {
   "codemirror_mode": {
    "name": "ipython",
    "version": 2
   },
   "file_extension": ".py",
   "mimetype": "text/x-python",
   "name": "python",
   "nbconvert_exporter": "python",
   "pygments_lexer": "ipython2",
   "version": "2.7.12"
  }
 },
 "nbformat": 4,
 "nbformat_minor": 1
}
