{
 "cells": [
  {
   "cell_type": "code",
   "execution_count": 1,
   "metadata": {
    "collapsed": true
   },
   "outputs": [],
   "source": [
    "%load_ext autoreload\n",
    "%autoreload 2\n",
    "import os\n",
    "os.chdir(\"/Users/Aaron-MAC/Development/Kaggle/Santander\")\n",
    "import pandas as pd\n",
    "import numpy as np\n",
    "from modules.pre_process import *\n",
    "from modules.get_data import *\n",
    "import matplotlib.pyplot as plt\n",
    "import cPickle as pickle\n",
    "import xgboost as xgb\n",
    "%matplotlib inline"
   ]
  },
  {
   "cell_type": "code",
   "execution_count": 2,
   "metadata": {
    "collapsed": false
   },
   "outputs": [
    {
     "name": "stderr",
     "output_type": "stream",
     "text": [
      "/Users/Aaron-MAC/anaconda/envs/mlp/lib/python2.7/site-packages/IPython/core/interactiveshell.py:2717: DtypeWarning: Columns (5,8,11,15) have mixed types. Specify dtype option on import or set low_memory=False.\n",
      "  interactivity=interactivity, compiler=compiler, result=result)\n"
     ]
    }
   ],
   "source": [
    "cache = pd.read_csv(\"data/train_ver2.csv\").fillna(-2.)"
   ]
  },
  {
   "cell_type": "code",
   "execution_count": 3,
   "metadata": {
    "collapsed": true
   },
   "outputs": [],
   "source": [
    "X_train, y_train = feed_training_data(year=2015, month=5, cache=cache, mul_y=False)\n",
    "X_test = feed_test_data(year=2016, month=5, cache=cache)\n",
    "X_test_unred = X_test.copy()\n",
    "test_set = get_test_data(year=2016, month=5, cache=cache)\n",
    "\n",
    "from sklearn.preprocessing import MaxAbsScaler\n",
    "mas = MaxAbsScaler()\n",
    "X_train = mas.fit_transform(X_train)\n",
    "X_test = mas.transform(X_test)"
   ]
  },
  {
   "cell_type": "code",
   "execution_count": 7,
   "metadata": {
    "collapsed": false
   },
   "outputs": [],
   "source": [
    "arr = []\n",
    "for i in range(24):\n",
    "    sel = y_train==i\n",
    "    \n",
    "    if len(X_train[sel])>0:\n",
    "        arr.append(X_train[sel].mean(0))\n",
    "feature_sel = np.array(arr).std(0)\n",
    "\n",
    "X_train = X_train[:, feature_sel>0.05]\n",
    "X_test = X_test[:, feature_sel>0.05]"
   ]
  },
  {
   "cell_type": "code",
   "execution_count": 17,
   "metadata": {
    "collapsed": false
   },
   "outputs": [],
   "source": [
    "def runXGB(train_X, train_y):\n",
    "    param = {}\n",
    "    param['objective'] = 'multi:softprob'\n",
    "    param['max_depth'] = 3\n",
    "    param['silent'] = 0\n",
    "    param['num_class'] = 24\n",
    "    num_rounds = 100\n",
    "\n",
    "    plst = list(param.items())\n",
    "    xgtrain = xgb.DMatrix(train_X, label=train_y)\n",
    "    model = xgb.train(plst, xgtrain, num_rounds)\t\n",
    "    return model\n",
    "\n",
    "model = runXGB(X_train, y_train)\n",
    "predict = model.predict(xgb.DMatrix(X_test))"
   ]
  },
  {
   "cell_type": "code",
   "execution_count": 18,
   "metadata": {
    "collapsed": true
   },
   "outputs": [],
   "source": [
    "mask = X_test_unred[:, :24]==0\n",
    "predict = predict*mask"
   ]
  },
  {
   "cell_type": "code",
   "execution_count": 19,
   "metadata": {
    "collapsed": false
   },
   "outputs": [
    {
     "name": "stdout",
     "output_type": "stream",
     "text": [
      "[ 0  1  3 10 14 15 16 20]\n",
      "931453\n"
     ]
    }
   ],
   "source": [
    "f = open(\"outputs/test_4.csv\", 'w')\n",
    "f.write(\"ncodpers,added_products\\n\")\n",
    "\n",
    "user_id = test_set['ncodpers']\n",
    "\n",
    "count = np.bincount(y_train)\n",
    "ban_list = np.argwhere(count<count.max()*0.005)[:,0]\n",
    "\n",
    "print ban_list\n",
    "print len(predict)\n",
    "\n",
    "for idx,r in enumerate(predict):\n",
    "    order = [i[0] for i in sorted(enumerate(r), key=lambda x:x[1], reverse=True)]\n",
    "    order = [x for x in order if x not in ban_list]\n",
    "    select = order[:min(7,len(order))]\n",
    "    \"\"\"\n",
    "    if 21 in select and 22 not in select:\n",
    "        select.insert(select.index(21)+1, 22)\n",
    "        select = select[:7]\n",
    "    elif 22 in select and 21 not in select:\n",
    "        select.insert(select.index(22)+1, 21)\n",
    "        select = select[:7]\n",
    "    \"\"\"\n",
    "      \n",
    "    f.write(str(user_id[idx])+\",\"+(\" \".join([products[s] for s in select]))+'\\n')\n",
    "f.close()"
   ]
  },
  {
   "cell_type": "code",
   "execution_count": 20,
   "metadata": {
    "collapsed": false
   },
   "outputs": [
    {
     "data": {
      "text/plain": [
       "0.06509336143179652"
      ]
     },
     "execution_count": 20,
     "metadata": {},
     "output_type": "execute_result"
    }
   ],
   "source": [
    "from modules.evaluation import *\n",
    "eval_submission('test_4.csv', year=2016, month=5, cache=cache)"
   ]
  },
  {
   "cell_type": "code",
   "execution_count": 23,
   "metadata": {
    "collapsed": false
   },
   "outputs": [],
   "source": [
    "import logging\n",
    "logger = logging.getLogger()\n",
    "logger.setLevel(\"INFO\") \n",
    "logger.handlers = [logging.StreamHandler()] \n",
    "seed = 20161121\n",
    "rng = np.random.RandomState(seed)"
   ]
  },
  {
   "cell_type": "code",
   "execution_count": 28,
   "metadata": {
    "collapsed": false
   },
   "outputs": [],
   "source": [
    "from mlp.models import MultipleLayerModel\n",
    "from mlp.layers import AffineLayer\n",
    "from mlp.layers import SigmoidLayer, TanhLayer, ReluLayer, DropoutLayer\n",
    "from mlp.errors import CrossEntropySoftmaxError,SumOfSquaredDiffsError\n",
    "from mlp.data_providers import DataProvider\n",
    "from mlp.learning_rules import GradientDescentLearningRule, MomentumLearningRule\n",
    "from mlp.schedulers import ConstantLearningRateScheduler, ExponentialLearningRateScheduler\n",
    "from mlp.penalties import L1Penalty, L2Penalty\n",
    "from mlp.initialisers import GlorotUniformInit, ConstantInit, UniformInit\n",
    "from mlp.optimisers import Optimiser\n",
    "from mlp.settings import Setting\n",
    "from mlp.experiments import Experiment"
   ]
  },
  {
   "cell_type": "code",
   "execution_count": 26,
   "metadata": {
    "collapsed": true
   },
   "outputs": [],
   "source": [
    "weights_init = GlorotUniformInit(rng=rng)\n",
    "biases_init = ConstantInit(0.)\n",
    "\n",
    "learning_rule = MomentumLearningRule(learning_rate=0.02, mom_coeff=0.9)\n",
    "error = CrossEntropySoftmaxError()\n",
    "ae_error = SumOfSquaredDiffsError()"
   ]
  },
  {
   "cell_type": "code",
   "execution_count": null,
   "metadata": {
    "collapsed": true
   },
   "outputs": [],
   "source": [
    "class SantanderDataProvider(DataProvider):\n",
    "    \n",
    "    def next():\n",
    "        "
   ]
  },
  {
   "cell_type": "code",
   "execution_count": null,
   "metadata": {
    "collapsed": true
   },
   "outputs": [],
   "source": [
    "input_dim = 49\n",
    "output_dim = 10\n",
    "\n",
    "layers = [\n",
    "    AffineLayer(input_dim, output_dim, weights_initialiser=weight_init, biases_initialiser=biases_init),\n",
    "    SigmoidLayer(),\n",
    "    AffineLayer(output_dim, input_dim, weights_initialiser=weight_init, biases_initialiser=biases_init),\n",
    "    SigmoidLayer(),\n",
    "]\n",
    "\n",
    "model = MultipleLayerModel(layers)\n",
    "setting = Setting(model, error, learning_rule, train_set, valid_set)\n",
    "\n",
    "remark = \"Santander\"\n",
    "settings = [setting]\n",
    "experiment = Experiment(settings=settings, num_epoch=30, stats_interval=1, remark=remark)\n",
    "experiment.do_experiment()"
   ]
  },
  {
   "cell_type": "code",
   "execution_count": 29,
   "metadata": {
    "collapsed": false
   },
   "outputs": [
    {
     "ename": "ImportError",
     "evalue": "No module named sknn",
     "output_type": "error",
     "traceback": [
      "\u001b[0;31m---------------------------------------------------------------------------\u001b[0m",
      "\u001b[0;31mImportError\u001b[0m                               Traceback (most recent call last)",
      "\u001b[0;32m<ipython-input-29-04eaa6bb5f54>\u001b[0m in \u001b[0;36m<module>\u001b[0;34m()\u001b[0m\n\u001b[0;32m----> 1\u001b[0;31m \u001b[0;32mimport\u001b[0m \u001b[0msknn\u001b[0m\u001b[0;34m\u001b[0m\u001b[0m\n\u001b[0m",
      "\u001b[0;31mImportError\u001b[0m: No module named sknn"
     ]
    }
   ],
   "source": [
    "import sknn"
   ]
  },
  {
   "cell_type": "code",
   "execution_count": 48,
   "metadata": {
    "collapsed": false
   },
   "outputs": [],
   "source": [
    "from sklearn.preprocessing import OneHotEncoder\n",
    "\n",
    "enc = OneHotEncoder()\n",
    "enc.fit(X_train+1)\n",
    "X_train = enc.transform(X_train+1)\n",
    "X_test = enc.transform(y_train)"
   ]
  },
  {
   "cell_type": "code",
   "execution_count": 47,
   "metadata": {
    "collapsed": false
   },
   "outputs": [
    {
     "data": {
      "text/plain": [
       "0.0"
      ]
     },
     "execution_count": 47,
     "metadata": {},
     "output_type": "execute_result"
    }
   ],
   "source": []
  },
  {
   "cell_type": "code",
   "execution_count": null,
   "metadata": {
    "collapsed": true
   },
   "outputs": [],
   "source": []
  }
 ],
 "metadata": {
  "kernelspec": {
   "display_name": "Python [conda env:mlp]",
   "language": "python",
   "name": "conda-env-mlp-py"
  },
  "language_info": {
   "codemirror_mode": {
    "name": "ipython",
    "version": 2
   },
   "file_extension": ".py",
   "mimetype": "text/x-python",
   "name": "python",
   "nbconvert_exporter": "python",
   "pygments_lexer": "ipython2",
   "version": "2.7.12"
  }
 },
 "nbformat": 4,
 "nbformat_minor": 1
}
