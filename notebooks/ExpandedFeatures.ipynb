{
 "cells": [
  {
   "cell_type": "code",
   "execution_count": 1,
   "metadata": {
    "collapsed": false
   },
   "outputs": [],
   "source": [
    "%load_ext autoreload\n",
    "%autoreload 2\n",
    "import os\n",
    "os.chdir(\"/Users/Aaron-MAC/Development/Kaggle/Santander\")\n",
    "import pandas as pd\n",
    "import numpy as np\n",
    "from modules.pre_process import *\n",
    "from modules.get_data import *\n",
    "import matplotlib.pyplot as plt\n",
    "import cPickle as pickle\n",
    "import xgboost as xgb\n",
    "%matplotlib inline"
   ]
  },
  {
   "cell_type": "code",
   "execution_count": 30,
   "metadata": {
    "collapsed": false
   },
   "outputs": [],
   "source": [
    "train_df = pd.read_csv('train_feature.csv')\n",
    "test_df = pd.read_csv('test_feature.csv')\n",
    "target_df = pd.read_csv('train_target.csv')"
   ]
  },
  {
   "cell_type": "code",
   "execution_count": null,
   "metadata": {
    "collapsed": false
   },
   "outputs": [],
   "source": []
  },
  {
   "cell_type": "code",
   "execution_count": 31,
   "metadata": {
    "collapsed": false
   },
   "outputs": [],
   "source": [
    "for col in test_df.columns:\n",
    "    if 'pais_residencia' in col:\n",
    "        test_df[col] = test_df[col]/100.\n",
    "        train_df[col] = train_df[col]/100.\n",
    "    elif 'age' in col:\n",
    "        test_df[col] = test_df[col]/5.\n",
    "        train_df[col] = train_df[col]/5.\n",
    "    elif 'f_antiguedad' in col:\n",
    "        test_df[col] = test_df[col]/10.\n",
    "        train_df[col] = train_df[col]/10.\n",
    "    elif 'f_canal_entrada' in col:\n",
    "        test_df[col] = test_df[col]/100.\n",
    "        train_df[col] = train_df[col]/100.\n",
    "    elif 'f_nomprov' in col:\n",
    "        test_df[col] = test_df[col]/50.\n",
    "        train_df[col] = train_df[col]/50."
   ]
  },
  {
   "cell_type": "code",
   "execution_count": 32,
   "metadata": {
    "collapsed": true
   },
   "outputs": [],
   "source": [
    "sel = (target_df.iloc[:, 1:]>0).sum(1)>0\n",
    "y_train = target_df[sel]\n",
    "X_train = train_df[sel]"
   ]
  },
  {
   "cell_type": "code",
   "execution_count": 33,
   "metadata": {
    "collapsed": false
   },
   "outputs": [],
   "source": [
    "X_train = X_train.fillna(-1.).iloc[:, 2:].astype(float)\n",
    "y_train = y_train.fillna(-1.).iloc[:, 1:].astype(int)"
   ]
  },
  {
   "cell_type": "code",
   "execution_count": 34,
   "metadata": {
    "collapsed": false
   },
   "outputs": [],
   "source": [
    "test_code_list = list(test_df['ncodpers'])\n",
    "X_test = test_df.fillna(-1.).iloc[:, 2:].astype(float)"
   ]
  },
  {
   "cell_type": "code",
   "execution_count": 35,
   "metadata": {
    "collapsed": false
   },
   "outputs": [],
   "source": [
    "mask_1 = 1-np.array(test_df.loc[:, [\"f_\"+x for x in products]].values)\n",
    "X_train = X_train.values\n",
    "y_train = y_train.values"
   ]
  },
  {
   "cell_type": "code",
   "execution_count": 40,
   "metadata": {
    "collapsed": false
   },
   "outputs": [
    {
     "name": "stdout",
     "output_type": "stream",
     "text": [
      "(929615, 24)\n",
      "(929615, 253)\n",
      "(45691, 253)\n",
      "(45691,)\n"
     ]
    }
   ],
   "source": [
    "print mask_1.shape\n",
    "print X_test.shape\n",
    "print X_train.shape\n",
    "print y_train.shape"
   ]
  },
  {
   "cell_type": "code",
   "execution_count": 39,
   "metadata": {
    "collapsed": false
   },
   "outputs": [],
   "source": [
    "arr = []\n",
    "for i in range(24):\n",
    "    sel = y_train==i\n",
    "    \n",
    "    if len(X_train[sel])>0:\n",
    "        arr.append(X_train[sel].mean(0))\n",
    "feature_sel = np.array(arr).std(0)\n",
    "\n",
    "\n",
    "X_train = X_train[:, feature_sel>0.1]\n",
    "X_test = X_test[:, feature_sel>0.1]"
   ]
  },
  {
   "cell_type": "code",
   "execution_count": 37,
   "metadata": {
    "collapsed": false
   },
   "outputs": [],
   "source": [
    "X = []\n",
    "Y = []\n",
    "for x, y in zip(X_train, y_train):\n",
    "    for idx, item in enumerate(y):\n",
    "        if item>0:# and idx in [2,4,6,12,17,18,21,22,23]:\n",
    "            X.append(x)\n",
    "            Y.append(idx)\n",
    "\n",
    "X_train = np.array(X)\n",
    "y_train = np.array(Y)"
   ]
  },
  {
   "cell_type": "code",
   "execution_count": 38,
   "metadata": {
    "collapsed": false
   },
   "outputs": [],
   "source": [
    "X_test = np.array(X_test)"
   ]
  },
  {
   "cell_type": "code",
   "execution_count": 236,
   "metadata": {
    "collapsed": false
   },
   "outputs": [],
   "source": [
    "from sklearn.ensemble import GradientBoostingClassifier\n",
    "\n",
    "model = GradientBoostingClassifier(verbose=True, n_estimators=50)"
   ]
  },
  {
   "cell_type": "code",
   "execution_count": 29,
   "metadata": {
    "collapsed": false
   },
   "outputs": [
    {
     "ename": "AttributeError",
     "evalue": "'tuple' object has no attribute 'shape'",
     "output_type": "error",
     "traceback": [
      "\u001b[0;31m---------------------------------------------------------------------------\u001b[0m",
      "\u001b[0;31mAttributeError\u001b[0m                            Traceback (most recent call last)",
      "\u001b[0;32m<ipython-input-29-9d2f5e260ddb>\u001b[0m in \u001b[0;36m<module>\u001b[0;34m()\u001b[0m\n\u001b[0;32m----> 1\u001b[0;31m \u001b[0mX_train\u001b[0m\u001b[0;34m.\u001b[0m\u001b[0mshape\u001b[0m\u001b[0;34m\u001b[0m\u001b[0m\n\u001b[0m",
      "\u001b[0;31mAttributeError\u001b[0m: 'tuple' object has no attribute 'shape'"
     ]
    }
   ],
   "source": [
    "X_train.shape"
   ]
  },
  {
   "cell_type": "code",
   "execution_count": 41,
   "metadata": {
    "collapsed": false
   },
   "outputs": [],
   "source": [
    "def runXGB(train_X, train_y, seed_val=0):\n",
    "    param = {}\n",
    "    param['objective'] = 'multi:softprob'\n",
    "    #param['eta'] = 0.05\n",
    "    #param['max_depth'] = 3\n",
    "    param['silent'] = 0\n",
    "    param['num_class'] = 24\n",
    "    param['eval_metric'] = \"mlogloss\"\n",
    "    #param['min_child_weight'] = 1\n",
    "    #param['subsample'] = 0.7\n",
    "    #param['colsample_bytree'] = 0.7\n",
    "    #param['seed'] = seed_val\n",
    "    num_rounds = 200\n",
    "\n",
    "    plst = list(param.items())\n",
    "    xgtrain = xgb.DMatrix(train_X, label=train_y)\n",
    "    model = xgb.train(plst, xgtrain, num_rounds)\t\n",
    "    return model\n",
    "\n",
    "\n",
    "\n",
    "model = runXGB(X_train, y_train)\n",
    "predict = model.predict(xgb.DMatrix(X_test))"
   ]
  },
  {
   "cell_type": "code",
   "execution_count": 220,
   "metadata": {
    "collapsed": false
   },
   "outputs": [],
   "source": [
    "predict = model.predict(xgb.DMatrix(np.array(X_test)))"
   ]
  },
  {
   "cell_type": "code",
   "execution_count": null,
   "metadata": {
    "collapsed": false
   },
   "outputs": [],
   "source": [
    "predict = model.predict_proba(X_test)\n",
    "print model.classes_\n",
    "pred = np.zeros((len(predict), 24))\n",
    "for idx, i in enumerate(model.classes_):\n",
    "    pred[:,i] = predict[:,idx]\n",
    "predict = pred\n",
    "#predict = np.hstack([np.zeros((len(predict), 2)), predict])"
   ]
  },
  {
   "cell_type": "code",
   "execution_count": 239,
   "metadata": {
    "collapsed": false
   },
   "outputs": [
    {
     "ename": "AttributeError",
     "evalue": "'GradientBoostingClassifier' object has no attribute 'classes_'",
     "output_type": "error",
     "traceback": [
      "\u001b[0;31m---------------------------------------------------------------------------\u001b[0m",
      "\u001b[0;31mAttributeError\u001b[0m                            Traceback (most recent call last)",
      "\u001b[0;32m<ipython-input-239-766203d542b6>\u001b[0m in \u001b[0;36m<module>\u001b[0;34m()\u001b[0m\n\u001b[1;32m      1\u001b[0m \u001b[0mpredict\u001b[0m \u001b[0;34m=\u001b[0m \u001b[0mboost\u001b[0m\u001b[0;34m.\u001b[0m\u001b[0mpredict_proba\u001b[0m\u001b[0;34m(\u001b[0m\u001b[0mX_test\u001b[0m\u001b[0;34m)\u001b[0m\u001b[0;34m\u001b[0m\u001b[0m\n\u001b[0;32m----> 2\u001b[0;31m \u001b[0;32mprint\u001b[0m \u001b[0mmodel\u001b[0m\u001b[0;34m.\u001b[0m\u001b[0mclasses_\u001b[0m\u001b[0;34m\u001b[0m\u001b[0m\n\u001b[0m\u001b[1;32m      3\u001b[0m \u001b[0mpred\u001b[0m \u001b[0;34m=\u001b[0m \u001b[0mnp\u001b[0m\u001b[0;34m.\u001b[0m\u001b[0mzeros\u001b[0m\u001b[0;34m(\u001b[0m\u001b[0;34m(\u001b[0m\u001b[0mlen\u001b[0m\u001b[0;34m(\u001b[0m\u001b[0mpredict\u001b[0m\u001b[0;34m)\u001b[0m\u001b[0;34m,\u001b[0m \u001b[0;36m24\u001b[0m\u001b[0;34m)\u001b[0m\u001b[0;34m)\u001b[0m\u001b[0;34m\u001b[0m\u001b[0m\n\u001b[1;32m      4\u001b[0m \u001b[0;32mfor\u001b[0m \u001b[0midx\u001b[0m\u001b[0;34m,\u001b[0m \u001b[0mi\u001b[0m \u001b[0;32min\u001b[0m \u001b[0menumerate\u001b[0m\u001b[0;34m(\u001b[0m\u001b[0mmodel\u001b[0m\u001b[0;34m.\u001b[0m\u001b[0mclasses_\u001b[0m\u001b[0;34m)\u001b[0m\u001b[0;34m:\u001b[0m\u001b[0;34m\u001b[0m\u001b[0m\n\u001b[1;32m      5\u001b[0m     \u001b[0mpred\u001b[0m\u001b[0;34m[\u001b[0m\u001b[0;34m:\u001b[0m\u001b[0;34m,\u001b[0m\u001b[0mi\u001b[0m\u001b[0;34m]\u001b[0m \u001b[0;34m=\u001b[0m \u001b[0mpredict\u001b[0m\u001b[0;34m[\u001b[0m\u001b[0;34m:\u001b[0m\u001b[0;34m,\u001b[0m\u001b[0midx\u001b[0m\u001b[0;34m]\u001b[0m\u001b[0;34m\u001b[0m\u001b[0m\n",
      "\u001b[0;31mAttributeError\u001b[0m: 'GradientBoostingClassifier' object has no attribute 'classes_'"
     ]
    }
   ],
   "source": [
    "predict = boost.predict_proba(X_test)\n",
    "print model.classes_\n",
    "pred = np.zeros((len(predict), 24))\n",
    "for idx, i in enumerate(model.classes_):\n",
    "    pred[:,i] = predict[:,idx]\n",
    "predict = pred"
   ]
  },
  {
   "cell_type": "code",
   "execution_count": 241,
   "metadata": {
    "collapsed": false
   },
   "outputs": [],
   "source": [
    "predict = np.hstack([np.zeros((len(predict), 2)), predict])"
   ]
  },
  {
   "cell_type": "code",
   "execution_count": 43,
   "metadata": {
    "collapsed": false
   },
   "outputs": [],
   "source": [
    "mask_2 = np.ones((len(predict), 24))\n",
    "mask_2[:, [0,1,3,5,7,8,9,10,11,13,14,15,16,19,20]] = 0.01\n",
    "\n",
    "predict = predict*mask_1#*mask_2"
   ]
  },
  {
   "cell_type": "code",
   "execution_count": 42,
   "metadata": {
    "collapsed": false
   },
   "outputs": [
    {
     "data": {
      "text/plain": [
       "array([[  3.57598910e-05,   3.57598910e-05,   4.20569631e-05, ...,\n",
       "          6.32390082e-02,   9.82042402e-03,   3.09516132e-01],\n",
       "       [  4.55296686e-05,   4.55296686e-05,   5.97558537e-05, ...,\n",
       "          5.72467335e-02,   6.09631389e-02,   5.08993804e-01],\n",
       "       [  2.32013626e-05,   2.32013626e-05,   3.70447087e-05, ...,\n",
       "          9.94575620e-02,   1.12454161e-01,   5.15340090e-01],\n",
       "       ..., \n",
       "       [  2.74186514e-05,   2.74186514e-05,   4.87424550e-05, ...,\n",
       "          3.25812697e-02,   2.79685464e-02,   4.37661916e-01],\n",
       "       [  1.70270396e-05,   1.70270396e-05,   7.85066950e-05, ...,\n",
       "          1.91464815e-02,   1.34884547e-02,   7.02158868e-01],\n",
       "       [  4.03022977e-06,   4.03022977e-06,   9.64788139e-01, ...,\n",
       "          6.10219395e-05,   1.20936020e-03,   7.07702944e-03]], dtype=float32)"
      ]
     },
     "execution_count": 42,
     "metadata": {},
     "output_type": "execute_result"
    }
   ],
   "source": [
    "predict"
   ]
  },
  {
   "cell_type": "code",
   "execution_count": 44,
   "metadata": {
    "collapsed": false
   },
   "outputs": [],
   "source": [
    "f = open(\"outputs/feature_expand_10_sub.csv\", 'w')\n",
    "f.write(\"ncodpers,added_products\\n\")\n",
    "\n",
    "for idx,r in enumerate(predict):\n",
    "    order = [i[0] for i in sorted(enumerate(r), key=lambda x:x[1], reverse=True)]\n",
    "    select = order[:min(7,len(order))]\n",
    "    f.write(str(test_code_list[idx])+\",\"+(\" \".join([products[s] for s in select]))+'\\n')\n",
    "f.close()"
   ]
  },
  {
   "cell_type": "code",
   "execution_count": null,
   "metadata": {
    "collapsed": true
   },
   "outputs": [],
   "source": []
  }
 ],
 "metadata": {
  "anaconda-cloud": {},
  "kernelspec": {
   "display_name": "Python [conda env:mlp]",
   "language": "python",
   "name": "conda-env-mlp-py"
  },
  "language_info": {
   "codemirror_mode": {
    "name": "ipython",
    "version": 2
   },
   "file_extension": ".py",
   "mimetype": "text/x-python",
   "name": "python",
   "nbconvert_exporter": "python",
   "pygments_lexer": "ipython2",
   "version": "2.7.12"
  }
 },
 "nbformat": 4,
 "nbformat_minor": 1
}
