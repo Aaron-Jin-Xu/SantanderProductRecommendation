{
 "cells": [
  {
   "cell_type": "code",
   "execution_count": 4,
   "metadata": {
    "collapsed": true
   },
   "outputs": [],
   "source": [
    "import pandas as pd\n",
    "import numpy as np"
   ]
  },
  {
   "cell_type": "code",
   "execution_count": 5,
   "metadata": {
    "collapsed": false
   },
   "outputs": [
    {
     "name": "stderr",
     "output_type": "stream",
     "text": [
      "/Users/Aaron-MAC/anaconda/envs/mlp/lib/python2.7/site-packages/IPython/core/interactiveshell.py:2717: DtypeWarning: Columns (5,8,11,15) have mixed types. Specify dtype option on import or set low_memory=False.\n",
      "  interactivity=interactivity, compiler=compiler, result=result)\n"
     ]
    }
   ],
   "source": [
    "train_set = pd.read_csv(\"train_ver2.csv\")\n",
    "product_list = list(train_set.columns)[list(train_set.columns).index(\"ind_ahor_fin_ult1\"):list(train_set.columns).index(\"ind_recibo_ult1\")+1]"
   ]
  },
  {
   "cell_type": "code",
   "execution_count": 6,
   "metadata": {
    "collapsed": false
   },
   "outputs": [],
   "source": [
    "test_prev = train_set.loc[train_set['fecha_dato']=='2015-05-28', ['ncodpers']+product_list]\n",
    "test_ans = train_set.loc[train_set['fecha_dato']=='2015-06-28', ['ncodpers']+product_list]\n",
    "test_prev = test_prev.set_index('ncodpers')\n",
    "test_ans = test_ans.set_index('ncodpers')\n",
    "test_prev = ((test_ans<-100)+test_prev).fillna(0)\n",
    "diff = test_ans-test_prev\n",
    "diff['filter'] = diff.abs().sum(1)\n",
    "diff = diff.loc[diff['filter']>0]\n",
    "diff.drop(['filter'], axis=1, inplace=True)\n",
    "a = diff.to_dict(orient='index')\n",
    "answer = {}\n",
    "for key in a:\n",
    "    answer[key] = []\n",
    "    for k in a[key]:\n",
    "        if a[key][k]>0:\n",
    "            answer[key].append(k)\n",
    "    if len(answer[key])==0:\n",
    "        del answer[key]\n",
    "            "
   ]
  },
  {
   "cell_type": "code",
   "execution_count": 13,
   "metadata": {
    "collapsed": false
   },
   "outputs": [],
   "source": [
    "sub_file = \"rf_1st_sub.csv\"\n",
    "f = open(sub_file, 'r')\n",
    "f.next()\n",
    "sub = {}\n",
    "for line in f:\n",
    "    line = line.strip()\n",
    "    s, product = line.split(\",\")\n",
    "    sub[int(s)] = product.split(\" \")"
   ]
  },
  {
   "cell_type": "code",
   "execution_count": 14,
   "metadata": {
    "collapsed": false
   },
   "outputs": [
    {
     "name": "stdout",
     "output_type": "stream",
     "text": [
      "0.0132507297568\n"
     ]
    }
   ],
   "source": [
    "total_score = 0.0\n",
    "for key in sub:\n",
    "    score = 0.0\n",
    "    if key in answer:\n",
    "        for i in range(min(7,len(sub[key]))):\n",
    "            score += len(set(sub[key][:i+1]) & set(answer[key]))/float(i+1)\n",
    "        score /= min(7, len(answer[key]))\n",
    "        total_score += score\n",
    "total_score /= len(sub)\n",
    "print total_score"
   ]
  },
  {
   "cell_type": "code",
   "execution_count": null,
   "metadata": {
    "collapsed": true
   },
   "outputs": [],
   "source": []
  }
 ],
 "metadata": {
  "kernelspec": {
   "display_name": "Python [conda env:mlp]",
   "language": "python",
   "name": "conda-env-mlp-py"
  },
  "language_info": {
   "codemirror_mode": {
    "name": "ipython",
    "version": 2
   },
   "file_extension": ".py",
   "mimetype": "text/x-python",
   "name": "python",
   "nbconvert_exporter": "python",
   "pygments_lexer": "ipython2",
   "version": "2.7.12"
  }
 },
 "nbformat": 4,
 "nbformat_minor": 1
}
